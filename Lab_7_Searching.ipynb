{
  "nbformat": 4,
  "nbformat_minor": 0,
  "metadata": {
    "colab": {
      "provenance": [],
      "authorship_tag": "ABX9TyM7gYWyqEY1dfcvVUDXAB3u",
      "include_colab_link": true
    },
    "kernelspec": {
      "name": "python3",
      "display_name": "Python 3"
    },
    "language_info": {
      "name": "python"
    }
  },
  "cells": [
    {
      "cell_type": "markdown",
      "metadata": {
        "id": "view-in-github",
        "colab_type": "text"
      },
      "source": [
        "<a href=\"https://colab.research.google.com/github/masyitah-abu/Data-Structure-and-Algorithm-in-Python/blob/main/Lab_7_Searching.ipynb\" target=\"_parent\"><img src=\"https://colab.research.google.com/assets/colab-badge.svg\" alt=\"Open In Colab\"/></a>"
      ]
    },
    {
      "cell_type": "markdown",
      "source": [
        "Choose a title below and show the searching process based on the algorithm given\n",
        "You may use any array or list you want for your programed algorithm.\n",
        "\n",
        "The array or list should have 10 element.\n",
        "Complete the code\n",
        "\n",
        "1.\tLinear Search\n",
        "2.\tBinary Search \n"
      ],
      "metadata": {
        "id": "p7IEAxkIbLpx"
      }
    },
    {
      "cell_type": "markdown",
      "source": [
        "**Linear Search**"
      ],
      "metadata": {
        "id": "jc4iOvOAbpGa"
      }
    },
    {
      "cell_type": "code",
      "execution_count": null,
      "metadata": {
        "id": "z7jbJGBlbIHk"
      },
      "outputs": [],
      "source": []
    },
    {
      "cell_type": "markdown",
      "source": [
        "Searching process"
      ],
      "metadata": {
        "id": "LxIc03NheuAR"
      }
    },
    {
      "cell_type": "markdown",
      "source": [
        "**Binary Search**"
      ],
      "metadata": {
        "id": "EzHwDzXQbpao"
      }
    },
    {
      "cell_type": "code",
      "source": [],
      "metadata": {
        "id": "y-pD6Abrbq7A"
      },
      "execution_count": null,
      "outputs": []
    },
    {
      "cell_type": "markdown",
      "source": [
        "Searching process"
      ],
      "metadata": {
        "id": "JQ5KYIAJexjR"
      }
    }
  ]
}