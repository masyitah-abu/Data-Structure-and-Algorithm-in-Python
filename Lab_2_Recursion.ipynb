{
  "nbformat": 4,
  "nbformat_minor": 0,
  "metadata": {
    "colab": {
      "provenance": [],
      "authorship_tag": "ABX9TyPaELtHETPg1ly1iqE6Q1w+",
      "include_colab_link": true
    },
    "kernelspec": {
      "name": "python3",
      "display_name": "Python 3"
    },
    "language_info": {
      "name": "python"
    }
  },
  "cells": [
    {
      "cell_type": "markdown",
      "metadata": {
        "id": "view-in-github",
        "colab_type": "text"
      },
      "source": [
        "<a href=\"https://colab.research.google.com/github/masyitah-abu/Data-Structure-and-Algorithm-in-Python/blob/main/Lab_2_Recursion.ipynb\" target=\"_parent\"><img src=\"https://colab.research.google.com/assets/colab-badge.svg\" alt=\"Open In Colab\"/></a>"
      ]
    },
    {
      "cell_type": "markdown",
      "source": [
        "Key Component of Recursive Algorithm Design\n",
        "\n",
        "1. Decomposition\n",
        "2. Composition\n",
        "3. Base/Stopping Case"
      ],
      "metadata": {
        "id": "yTXV8A1yVlu3"
      }
    },
    {
      "cell_type": "markdown",
      "source": [
        "**Example of recursion**\n",
        "1. Factorial function\n",
        "2. Fabonacci\n",
        "3. Binary Search (Will be explain in Topic Search)\n",
        "\n",
        "**Real Application of recursion**\n",
        "1. English Ruler\n",
        "2. File System\n",
        "3. Hanoi Tower"
      ],
      "metadata": {
        "id": "QqwEOlI1bu7k"
      }
    },
    {
      "cell_type": "markdown",
      "source": [
        "## PYTHON CODE EXAMPLE ##"
      ],
      "metadata": {
        "id": "2eOlSc6SdISh"
      }
    },
    {
      "cell_type": "markdown",
      "source": [
        "**factorial**"
      ],
      "metadata": {
        "id": "f_NqaXHvdM-e"
      }
    },
    {
      "cell_type": "code",
      "source": [
        "def factorial(n):\n",
        "  if n > 1: #decomposition\n",
        "    return n*factorial(n-1) #composition\n",
        "  else:\n",
        "    return 1 #base case\n",
        "print(factorial(5))"
      ],
      "metadata": {
        "colab": {
          "base_uri": "https://localhost:8080/"
        },
        "id": "NGCjygZibdDv",
        "outputId": "a98f46b0-69ee-4a01-c87f-db002981d561"
      },
      "execution_count": null,
      "outputs": [
        {
          "output_type": "stream",
          "name": "stdout",
          "text": [
            "120\n"
          ]
        }
      ]
    },
    {
      "cell_type": "markdown",
      "source": [
        "**fibonacci**"
      ],
      "metadata": {
        "id": "alnPWSRAdxhR"
      }
    },
    {
      "cell_type": "code",
      "source": [
        "def fibonacci(n):\n",
        "  if n <= 1: #decomposition\n",
        "    return (n,0) #base case\n",
        "  else:\n",
        "    (a,b) = fibonacci(n-1) #composition\n",
        "    return (a+b,a)"
      ],
      "metadata": {
        "id": "OfZx--FJeY1U"
      },
      "execution_count": null,
      "outputs": []
    },
    {
      "cell_type": "markdown",
      "source": [
        "**Application Example**"
      ],
      "metadata": {
        "id": "rjYVApZMd1No"
      }
    },
    {
      "cell_type": "code",
      "source": [
        "# English Ruler\n",
        "# Part of English Ruler are: \n",
        "# 1. inch line\n",
        "# 2. center between each inch\n",
        "\n",
        "# this function is to build main inch line\n",
        "def draw_line(tick_length, tick_label=''):\n",
        "  line = '_'*tick_length\n",
        "  if tick_label:\n",
        "    line += ' ' + tick_label\n",
        "  print(line)\n",
        "\n",
        "def draw_interval(center_length):\n",
        "  if center_length>0: #stop when length drop to 0\n",
        "    draw_interval(center_length - 1) #recursively draw top ticss\n",
        "    draw_line(center_length) #draw center tick\n",
        "    draw_interval(center_length - 1) #recursively draw bottom tics\n",
        "\n",
        "def draw_ruler(num_inches, major_length):\n",
        "  draw_line(major_length,'0') #draw first line start with 0\n",
        "  for j in range(1, 1 + num_inches):\n",
        "    draw_interval(major_length - 1) #draw interior ticks between inch \n",
        "    draw_line(major_length, str(j)) #when found inch line insert label\n",
        "\n",
        "draw_ruler(2,4)"
      ],
      "metadata": {
        "colab": {
          "base_uri": "https://localhost:8080/"
        },
        "id": "Pf4-hesVfZ6W",
        "outputId": "77fcfaec-8132-4538-b5c2-fd3879343582"
      },
      "execution_count": null,
      "outputs": [
        {
          "output_type": "stream",
          "name": "stdout",
          "text": [
            "____ 0\n",
            "_\n",
            "__\n",
            "_\n",
            "___\n",
            "_\n",
            "__\n",
            "_\n",
            "____ 1\n",
            "_\n",
            "__\n",
            "_\n",
            "___\n",
            "_\n",
            "__\n",
            "_\n",
            "____ 2\n"
          ]
        }
      ]
    },
    {
      "cell_type": "markdown",
      "source": [
        "**ASSIGNMENT**"
      ],
      "metadata": {
        "id": "3cpzzJ7sJuCr"
      }
    },
    {
      "cell_type": "markdown",
      "source": [
        "Question 1 (factorial)\n",
        "\n",
        "Permutations can be used to compute complex probability problems. For example, we can use permutations to determine the probability that a 6 digit personal identification number (PIN) has no repeated digits. Assuming that the PIN uses only numbers, there are 10 possible numbers, 0-9, so n = 10. To determine the probability that there are no repeated digits, we need to divide the number of possible 6 digit PINs that don't repeat by the total number of possible PINs with 6 digits. \n",
        "\n",
        "a) We can find the total number using permutations with repetition, as:\n",
        "\n",
        "                                                       P(n,r) = n^r\n",
        "\n",
        "b) The number of 6 digit PINs that don't repeat can be calculated using the formula for permutations with no repetition as:\n",
        "\n",
        "                                                     P(n, r) = n!/(n-r)!\n",
        "\n",
        "c) From this, we can calculate the probability of a 6 digit PIN having no repeating digits as:\n"
      ],
      "metadata": {
        "id": "8J1h0zpzKAoW"
      }
    },
    {
      "cell_type": "markdown",
      "source": [
        "**Question 1 - Calculation**"
      ],
      "metadata": {
        "id": "D3i5ctnmkOZg"
      }
    },
    {
      "cell_type": "code",
      "source": [
        "#Question 1 - python code\n",
        "#a) simple calculation using python\n",
        "\n",
        "\n",
        "#b) using factorial fucntion above\n",
        "\n",
        "#c) simple calculation using python\n"
      ],
      "metadata": {
        "id": "aRgfGgpGKETI"
      },
      "execution_count": null,
      "outputs": []
    },
    {
      "cell_type": "markdown",
      "source": [
        "Question 2 (Fibonacci numbers and Brick Wall Patterns)\n",
        "\n",
        "The point of this activity is to see how many ways you can build a brick wall using the given amount of bricks. \n",
        "•\tEach wall needs to be two units tall. \n",
        "•\tEach brick standing on end is two units tall. \n",
        "•\tEach brick laying on it's side is one unit tall. \n",
        "•\tYou are first given one, then two, three, etc. \n",
        "•\tFor one brick there is only one method of building a wall. Two methods for two, and three methods for three. \n",
        "\n",
        "![Capture.JPG](data:image/jpeg;base64,/9j/4AAQSkZJRgABAQEAYABgAAD/4RDyRXhpZgAATU0AKgAAAAgABAE7AAIAAAANAAAISodpAAQAAAABAAAIWJydAAEAAAAaAAAQ0OocAAcAAAgMAAAAPgAAAAAc6gAAAAgAAAAAAAAAAAAAAAAAAAAAAAAAAAAAAAAAAAAAAAAAAAAAAAAAAAAAAAAAAAAAAAAAAAAAAAAAAAAAAAAAAAAAAAAAAAAAAAAAAAAAAAAAAAAAAAAAAAAAAAAAAAAAAAAAAAAAAAAAAAAAAAAAAAAAAAAAAAAAAAAAAAAAAAAAAAAAAAAAAAAAAAAAAAAAAAAAAAAAAAAAAAAAAAAAAAAAAAAAAAAAAAAAAAAAAAAAAAAAAAAAAAAAAAAAAAAAAAAAAAAAAAAAAAAAAAAAAAAAAAAAAAAAAAAAAAAAAAAAAAAAAAAAAAAAAAAAAAAAAAAAAAAAAAAAAAAAAAAAAAAAAAAAAAAAAAAAAAAAAAAAAAAAAAAAAAAAAAAAAAAAAAAAAAAAAAAAAAAAAAAAAAAAAAAAAAAAAAAAAAAAAAAAAAAAAAAAAAAAAAAAAAAAAAAAAAAAAAAAAAAAAAAAAAAAAAAAAAAAAAAAAAAAAAAAAAAAAAAAAAAAAAAAAAAAAAAAAAAAAAAAAAAAAAAAAAAAAAAAAAAAAAAAAAAAAAAAAAAAAAAAAAAAAAAAAAAAAAAAAAAAAAAAAAAAAAAAAAAAAAAAAAAAAAAAAAAAAAAAAAAAAAAAAAAAAAAAAAAAAAAAAAAAAAAAAAAAAAAAAAAAAAAAAAAAAAAAAAAAAAAAAAAAAAAAAAAAAAAAAAAAAAAAAAAAAAAAAAAAAAAAAAAAAAAAAAAAAAAAAAAAAAAAAAAAAAAAAAAAAAAAAAAAAAAAAAAAAAAAAAAAAAAAAAAAAAAAAAAAAAAAAAAAAAAAAAAAAAAAAAAAAAAAAAAAAAAAAAAAAAAAAAAAAAAAAAAAAAAAAAAAAAAAAAAAAAAAAAAAAAAAAAAAAAAAAAAAAAAAAAAAAAAAAAAAAAAAAAAAAAAAAAAAAAAAAAAAAAAAAAAAAAAAAAAAAAAAAAAAAAAAAAAAAAAAAAAAAAAAAAAAAAAAAAAAAAAAAAAAAAAAAAAAAAAAAAAAAAAAAAAAAAAAAAAAAAAAAAAAAAAAAAAAAAAAAAAAAAAAAAAAAAAAAAAAAAAAAAAAAAAAAAAAAAAAAAAAAAAAAAAAAAAAAAAAAAAAAAAAAAAAAAAAAAAAAAAAAAAAAAAAAAAAAAAAAAAAAAAAAAAAAAAAAAAAAAAAAAAAAAAAAAAAAAAAAAAAAAAAAAAAAAAAAAAAAAAAAAAAAAAAAAAAAAAAAAAAAAAAAAAAAAAAAAAAAAAAAAAAAAAAAAAAAAAAAAAAAAAAAAAAAAAAAAAAAAAAAAAAAAAAAAAAAAAAAAAAAAAAAAAAAAAAAAAAAAAAAAAAAAAAAAAAAAAAAAAAAAAAAAAAAAAAAAAAAAAAAAAAAAAAAAAAAAAAAAAAAAAAAAAAAAAAAAAAAAAAAAAAAAAAAAAAAAAAAAAAAAAAAAAAAAAAAAAAAAAAAAAAAAAAAAAAAAAAAAAAAAAAAAAAAAAAAAAAAAAAAAAAAAAAAAAAAAAAAAAAAAAAAAAAAAAAAAAAAAAAAAAAAAAAAAAAAAAAAAAAAAAAAAAAAAAAAAAAAAAAAAAAAAAAAAAAAAAAAAAAAAAAAAAAAAAAAAAAAAAAAAAAAAAAAAAAAAAAAAAAAAAAAAAAAAAAAAAAAAAAAAAAAAAAAAAAAAAAAAAAAAAAAAAAAAAAAAAAAAAAAAAAAAAAAAAAAAAAAAAAAAAAAAAAAAAAAAAAAAAAAAAAAAAAAAAAAAAAAAAAAAAAAAAAAAAAAAAAAAAAAAAAAAAAAAAAAAAAAAAAAAAAAAAAAAAAAAAAAAAAAAAAAAAAAAAAAAAAAAAAAAAAAAAAAAAAAAAAAAAAAAAAAAAAAAAAAAAAAAAAAAAAAAAAAAAAAAAAAAAAAAAAAAAAAAAAAAAAAAAAAAAAAAAAAAAAAAAAAAAAAAAAAAAAAAAAAAAAAAAAAAAAAAAAAAAAAAAAAAAAAAAAAAAAAAAAAAAAAAAAAAAAAAAAAAAAAAAAAAAAAAAAAAAAAAAAAAAAAAAAAAAAAAAAAAAAAAAAAAAAAAAAAAAAAAAAAAAAAAAAAAAAAAAAAAAAAAAAAAAAAAAAAAAAAAAAAAAAAAAAAAAAAAAAAAAAAAAAAAAAAAAAAAAAAAAAAAAAAAAAAAAAAAAAAAAAAAAAAAAAAAAAAAAAAAAAAAAAAAAAAAAAAAAAAAAAAAAAAAAAAAAAAAAAAAAAAAAAAAAAAAAAAAAAAAAAAAAAAAAAAAAAAAAAAAAAAAAAAAAAAAAAAAAAAAAAAAAAAAAAAAAAAAAAAAAAAAAAAAAAAAAAAAAAAAAAAAAAAAAAAAAAAAAAAAAAAAAAAAAAAAAAAAAAAAAAAAAAAAAAAAAAAAAAAAAAAAAAAAAAAAAAAAAAAAAAAAAAAAAAAAAAAAAAAAAAAAAAAAAAAAAAAAAAAAAAAAAAAAAAAAAAAAAAAAAAAAAAAAAAAAAAAAAAAAAAAAAAAAAAAAAAAAAAAAAAAAAAAAAAAAAAAAAAAAAAAAAAAAAAAAAAAAAAAAAAAAAAAAAAAAAAAAAAAAAAAAAAAAAAAAAAAAAAAAAAAAAAAAAAAAAAAAAAAAAAAAAAAAAAAAAAAAAAAAAAAAAAAAAAAAAAAAAAAAAAAAAAAAAAAAAAAAAAAAAAAAAAAAAAAAAAAAAAAAAAAAAAAAAAAAAAAAAAAAAAAAAAAAAAAAAAAAAAAAAAAAAAAAAAAAAAAG1hc3lpdGFoIGFidQAAAAWQAwACAAAAFAAAEKaQBAACAAAAFAAAELqSkQACAAAAAzgwAACSkgACAAAAAzgwAADqHAAHAAAIDAAACJoAAAAAHOoAAAAIAAAAAAAAAAAAAAAAAAAAAAAAAAAAAAAAAAAAAAAAAAAAAAAAAAAAAAAAAAAAAAAAAAAAAAAAAAAAAAAAAAAAAAAAAAAAAAAAAAAAAAAAAAAAAAAAAAAAAAAAAAAAAAAAAAAAAAAAAAAAAAAAAAAAAAAAAAAAAAAAAAAAAAAAAAAAAAAAAAAAAAAAAAAAAAAAAAAAAAAAAAAAAAAAAAAAAAAAAAAAAAAAAAAAAAAAAAAAAAAAAAAAAAAAAAAAAAAAAAAAAAAAAAAAAAAAAAAAAAAAAAAAAAAAAAAAAAAAAAAAAAAAAAAAAAAAAAAAAAAAAAAAAAAAAAAAAAAAAAAAAAAAAAAAAAAAAAAAAAAAAAAAAAAAAAAAAAAAAAAAAAAAAAAAAAAAAAAAAAAAAAAAAAAAAAAAAAAAAAAAAAAAAAAAAAAAAAAAAAAAAAAAAAAAAAAAAAAAAAAAAAAAAAAAAAAAAAAAAAAAAAAAAAAAAAAAAAAAAAAAAAAAAAAAAAAAAAAAAAAAAAAAAAAAAAAAAAAAAAAAAAAAAAAAAAAAAAAAAAAAAAAAAAAAAAAAAAAAAAAAAAAAAAAAAAAAAAAAAAAAAAAAAAAAAAAAAAAAAAAAAAAAAAAAAAAAAAAAAAAAAAAAAAAAAAAAAAAAAAAAAAAAAAAAAAAAAAAAAAAAAAAAAAAAAAAAAAAAAAAAAAAAAAAAAAAAAAAAAAAAAAAAAAAAAAAAAAAAAAAAAAAAAAAAAAAAAAAAAAAAAAAAAAAAAAAAAAAAAAAAAAAAAAAAAAAAAAAAAAAAAAAAAAAAAAAAAAAAAAAAAAAAAAAAAAAAAAAAAAAAAAAAAAAAAAAAAAAAAAAAAAAAAAAAAAAAAAAAAAAAAAAAAAAAAAAAAAAAAAAAAAAAAAAAAAAAAAAAAAAAAAAAAAAAAAAAAAAAAAAAAAAAAAAAAAAAAAAAAAAAAAAAAAAAAAAAAAAAAAAAAAAAAAAAAAAAAAAAAAAAAAAAAAAAAAAAAAAAAAAAAAAAAAAAAAAAAAAAAAAAAAAAAAAAAAAAAAAAAAAAAAAAAAAAAAAAAAAAAAAAAAAAAAAAAAAAAAAAAAAAAAAAAAAAAAAAAAAAAAAAAAAAAAAAAAAAAAAAAAAAAAAAAAAAAAAAAAAAAAAAAAAAAAAAAAAAAAAAAAAAAAAAAAAAAAAAAAAAAAAAAAAAAAAAAAAAAAAAAAAAAAAAAAAAAAAAAAAAAAAAAAAAAAAAAAAAAAAAAAAAAAAAAAAAAAAAAAAAAAAAAAAAAAAAAAAAAAAAAAAAAAAAAAAAAAAAAAAAAAAAAAAAAAAAAAAAAAAAAAAAAAAAAAAAAAAAAAAAAAAAAAAAAAAAAAAAAAAAAAAAAAAAAAAAAAAAAAAAAAAAAAAAAAAAAAAAAAAAAAAAAAAAAAAAAAAAAAAAAAAAAAAAAAAAAAAAAAAAAAAAAAAAAAAAAAAAAAAAAAAAAAAAAAAAAAAAAAAAAAAAAAAAAAAAAAAAAAAAAAAAAAAAAAAAAAAAAAAAAAAAAAAAAAAAAAAAAAAAAAAAAAAAAAAAAAAAAAAAAAAAAAAAAAAAAAAAAAAAAAAAAAAAAAAAAAAAAAAAAAAAAAAAAAAAAAAAAAAAAAAAAAAAAAAAAAAAAAAAAAAAAAAAAAAAAAAAAAAAAAAAAAAAAAAAAAAAAAAAAAAAAAAAAAAAAAAAAAAAAAAAAAAAAAAAAAAAAAAAAAAAAAAAAAAAAAAAAAAAAAAAAAAAAAAAAAAAAAAAAAAAAAAAAAAAAAAAAAAAAAAAAAAAAAAAAAAAAAAAAAAAAAAAAAAAAAAAAAAAAAAAAAAAAAAAAAAAAAAAAAAAAAAAAAAAAAAAAAAAAAAAAAAAAAAAAAAAAAAAAAAAAAAAAAAAAAAAAAAAAAAAAAAAAAAAAAAAAAAAAAAAAAAAAAAAAAAAAAAAAAAAAAAAAAAAAAAAAAAAAAAAAAAAAAAAAAAAAAAAAAAAAAAAAAAAAAAAAAAAAAAAAAAAAAAAAAAAAAAAAAAAAAAAAAAAAAAAAAAAAAAAAAAAAAAAAAAAAAAAAAAAAAAAAAAAAAAAAAAAAAAAAAAAAAAAAAAAAAAAAAAAAAAAAAAAAAAAAAAAAAAAAAAAAAAAAAAAAAAAAAAAAAAAAAAAAAAAAAAAAAAAAAAAAAAAAAAAAAAAAAAAAAAAAAAAAAAAAAAAAAAAAAAAAAAAAAAAAAAAAAAAAAAAAAAAAAAAAAAAAAAAAAAAAAAAAAAAAAAAAAAAAAAAAAAAAAAAAAAAAAAAAAAAAAAAAAAAAAAAAAAAAAAAAAAAAAAAAAAAAAAAAAAAAAAAAAAAAAAAAAAAAAAAAAAAAAAAAAAAAAAAAAAAAAAAAAAAAAAAAAAAAAAAAAAAAAAAAAAAAAAAAAAAAAAAAAAAAAAAAAAAAAAAAAAAAAAAAAAAAAAAAAAAAAAAAAAAAAAAAAAAAAAAAAAAAAAAAAAAAAAAAAAAAAAAAAAAAAAAAAAAAAAAAAAAAAAAAAAAAAAAAAAAAAAAAAAAAAAAAAAAAAAAAAAAAAAAAAAAAAAAAAAAAAAAAAAAAAAAAAAAAAAAAAAAAAAAAAAAAAAAAAAAAAAAAAAAAAAAAAAAAAAAAAAAAAAAAAAAAAAAAAAAAAAAAAAAAAAAAAAAAAAAAAAAAAAAAAAAAAAAAAAAAAAAAAAAAAAAAAAAAAAAAAAAAAAAAAAAAAAyMDIyOjEwOjE4IDIyOjEwOjI4ADIwMjI6MTA6MTggMjI6MTA6MjgAAABtAGEAcwB5AGkAdABhAGgAIABhAGIAdQAAAP/hCx9odHRwOi8vbnMuYWRvYmUuY29tL3hhcC8xLjAvADw/eHBhY2tldCBiZWdpbj0n77u/JyBpZD0nVzVNME1wQ2VoaUh6cmVTek5UY3prYzlkJz8+DQo8eDp4bXBtZXRhIHhtbG5zOng9ImFkb2JlOm5zOm1ldGEvIj48cmRmOlJERiB4bWxuczpyZGY9Imh0dHA6Ly93d3cudzMub3JnLzE5OTkvMDIvMjItcmRmLXN5bnRheC1ucyMiPjxyZGY6RGVzY3JpcHRpb24gcmRmOmFib3V0PSJ1dWlkOmZhZjViZGQ1LWJhM2QtMTFkYS1hZDMxLWQzM2Q3NTE4MmYxYiIgeG1sbnM6ZGM9Imh0dHA6Ly9wdXJsLm9yZy9kYy9lbGVtZW50cy8xLjEvIi8+PHJkZjpEZXNjcmlwdGlvbiByZGY6YWJvdXQ9InV1aWQ6ZmFmNWJkZDUtYmEzZC0xMWRhLWFkMzEtZDMzZDc1MTgyZjFiIiB4bWxuczp4bXA9Imh0dHA6Ly9ucy5hZG9iZS5jb20veGFwLzEuMC8iPjx4bXA6Q3JlYXRlRGF0ZT4yMDIyLTEwLTE4VDIyOjEwOjI4Ljc5ODwveG1wOkNyZWF0ZURhdGU+PC9yZGY6RGVzY3JpcHRpb24+PHJkZjpEZXNjcmlwdGlvbiByZGY6YWJvdXQ9InV1aWQ6ZmFmNWJkZDUtYmEzZC0xMWRhLWFkMzEtZDMzZDc1MTgyZjFiIiB4bWxuczpkYz0iaHR0cDovL3B1cmwub3JnL2RjL2VsZW1lbnRzLzEuMS8iPjxkYzpjcmVhdG9yPjxyZGY6U2VxIHhtbG5zOnJkZj0iaHR0cDovL3d3dy53My5vcmcvMTk5OS8wMi8yMi1yZGYtc3ludGF4LW5zIyI+PHJkZjpsaT5tYXN5aXRhaCBhYnU8L3JkZjpsaT48L3JkZjpTZXE+DQoJCQk8L2RjOmNyZWF0b3I+PC9yZGY6RGVzY3JpcHRpb24+PC9yZGY6UkRGPjwveDp4bXBtZXRhPg0KICAgICAgICAgICAgICAgICAgICAgICAgICAgICAgICAgICAgICAgICAgICAgICAgICAgICAgICAgICAgICAgICAgICAgICAgICAgICAgICAgICAgICAgICAgICAgICAgICAgIAogICAgICAgICAgICAgICAgICAgICAgICAgICAgICAgICAgICAgICAgICAgICAgICAgICAgICAgICAgICAgICAgICAgICAgICAgICAgICAgICAgICAgICAgICAgICAgICAgICAgCiAgICAgICAgICAgICAgICAgICAgICAgICAgICAgICAgICAgICAgICAgICAgICAgICAgICAgICAgICAgICAgICAgICAgICAgICAgICAgICAgICAgICAgICAgICAgICAgICAgICAKICAgICAgICAgICAgICAgICAgICAgICAgICAgICAgICAgICAgICAgICAgICAgICAgICAgICAgICAgICAgICAgICAgICAgICAgICAgICAgICAgICAgICAgICAgICAgICAgICAgIAogICAgICAgICAgICAgICAgICAgICAgICAgICAgICAgICAgICAgICAgICAgICAgICAgICAgICAgICAgICAgICAgICAgICAgICAgICAgICAgICAgICAgICAgICAgICAgICAgICAgCiAgICAgICAgICAgICAgICAgICAgICAgICAgICAgICAgICAgICAgICAgICAgICAgICAgICAgICAgICAgICAgICAgICAgICAgICAgICAgICAgICAgICAgICAgICAgICAgICAgICAKICAgICAgICAgICAgICAgICAgICAgICAgICAgICAgICAgICAgICAgICAgICAgICAgICAgICAgICAgICAgICAgICAgICAgICAgICAgICAgICAgICAgICAgICAgICAgICAgICAgIAogICAgICAgICAgICAgICAgICAgICAgICAgICAgICAgICAgICAgICAgICAgICAgICAgICAgICAgICAgICAgICAgICAgICAgICAgICAgICAgICAgICAgICAgICAgICAgICAgICAgCiAgICAgICAgICAgICAgICAgICAgICAgICAgICAgICAgICAgICAgICAgICAgICAgICAgICAgICAgICAgICAgICAgICAgICAgICAgICAgICAgICAgICAgICAgICAgICAgICAgICAKICAgICAgICAgICAgICAgICAgICAgICAgICAgICAgICAgICAgICAgICAgICAgICAgICAgICAgICAgICAgICAgICAgICAgICAgICAgICAgICAgICAgICAgICAgICAgICAgICAgIAogICAgICAgICAgICAgICAgICAgICAgICAgICAgICAgICAgICAgICAgICAgICAgICAgICAgICAgICAgICAgICAgICAgICAgICAgICAgICAgICAgICAgICAgICAgICAgICAgICAgCiAgICAgICAgICAgICAgICAgICAgICAgICAgICAgICAgICAgICAgICAgICAgICAgICAgICAgICAgICAgICAgICAgICAgICAgICAgICAgICAgICAgICAgICAgICAgICAgICAgICAKICAgICAgICAgICAgICAgICAgICAgICAgICAgICAgICAgICAgICAgICAgICAgICAgICAgICAgICAgICAgICAgICAgICAgICAgICAgICAgICAgICAgICAgICAgICAgICAgICAgIAogICAgICAgICAgICAgICAgICAgICAgICAgICAgICAgICAgICAgICAgICAgICAgICAgICAgICAgICAgICAgICAgICAgICAgICAgICAgICAgICAgICAgICAgICAgICAgICAgICAgCiAgICAgICAgICAgICAgICAgICAgICAgICAgICAgICAgICAgICAgICAgICAgICAgICAgICAgICAgICAgICAgICAgICAgICAgICAgICAgICAgICAgICAgICAgICAgICAgICAgICAKICAgICAgICAgICAgICAgICAgICAgICAgICAgICAgICAgICAgICAgICAgICAgICAgICAgICAgICAgICAgICAgICAgICAgICAgICAgICAgICAgICAgICAgICAgICAgICAgICAgIAogICAgICAgICAgICAgICAgICAgICAgICAgICAgICAgICAgICAgICAgICAgICAgICAgICAgICAgICAgICAgICAgICAgICAgICAgICAgICAgICAgICAgICAgICAgICAgICAgICAgCiAgICAgICAgICAgICAgICAgICAgICAgICAgICAgICAgICAgICAgICAgICAgICAgICAgICAgICAgICAgICAgICAgICAgICAgICAgICAgICAgICAgICAgICAgICAgICAgICAgICAKICAgICAgICAgICAgICAgICAgICAgICAgICAgICAgICAgICAgICAgICAgICAgICAgICAgICAgICAgICAgICAgICAgICAgICAgICAgICAgICAgICAgICAgICAgICAgICAgICAgIAogICAgICAgICAgICAgICAgICAgICAgICAgICAgICAgICAgICAgICAgICAgICAgICAgICAgICAgICAgICAgICAgICAgICAgICAgICAgICAgICAgICAgICAgICAgICAgICAgICAgCiAgICAgICAgICAgICAgICAgICAgICAgICAgICA8P3hwYWNrZXQgZW5kPSd3Jz8+/9sAQwAHBQUGBQQHBgUGCAcHCAoRCwoJCQoVDxAMERgVGhkYFRgXGx4nIRsdJR0XGCIuIiUoKSssKxogLzMvKjInKisq/9sAQwEHCAgKCQoUCwsUKhwYHCoqKioqKioqKioqKioqKioqKioqKioqKioqKioqKioqKioqKioqKioqKioqKioqKioq/8AAEQgAxAD0AwEiAAIRAQMRAf/EAB8AAAEFAQEBAQEBAAAAAAAAAAABAgMEBQYHCAkKC//EALUQAAIBAwMCBAMFBQQEAAABfQECAwAEEQUSITFBBhNRYQcicRQygZGhCCNCscEVUtHwJDNicoIJChYXGBkaJSYnKCkqNDU2Nzg5OkNERUZHSElKU1RVVldYWVpjZGVmZ2hpanN0dXZ3eHl6g4SFhoeIiYqSk5SVlpeYmZqio6Slpqeoqaqys7S1tre4ubrCw8TFxsfIycrS09TV1tfY2drh4uPk5ebn6Onq8fLz9PX29/j5+v/EAB8BAAMBAQEBAQEBAQEAAAAAAAABAgMEBQYHCAkKC//EALURAAIBAgQEAwQHBQQEAAECdwABAgMRBAUhMQYSQVEHYXETIjKBCBRCkaGxwQkjM1LwFWJy0QoWJDThJfEXGBkaJicoKSo1Njc4OTpDREVGR0hJSlNUVVZXWFlaY2RlZmdoaWpzdHV2d3h5eoKDhIWGh4iJipKTlJWWl5iZmqKjpKWmp6ipqrKztLW2t7i5usLDxMXGx8jJytLT1NXW19jZ2uLj5OXm5+jp6vLz9PX29/j5+v/aAAwDAQACEQMRAD8A+kaKKKACiiigAooooAKKKKACiiigAooooAKKKKACiiigAooooAKKKKACiiigAooooAKKKKACiiigAooooAKKKKACiis/Wb64sLWCW1jiffdwQyeYxG1JJVQkAdT83qPXnGDMpKKbZcIOpJQjuzQrkvihrGo6D8PL2/0a7azvEntY0nVEcoHuY0bAcFfusRyDXW1wvxl/5JZf/wDX3Y/+lkNKo2oNrsXh4qVaEXs2vzPKv+E88b/9Dfe/+Adn/wDGK2/BPjbxZefEPQrDU/EVxfWd5PLHNBLbWyhgLaVxykSsMMinrXE1t+A/+Sp+F/8Ar7n/APSO4r5XB4zETxEIym2mz9KzXKsDRwNSpTppNLRn0fRRRX1p+XhRRRQAUUUUAFFFFABRRRQAUUUUAFFFFABRRRQAUUUUAFFFFABRRRQAUUUUAFFFFABVXUrL+0LVIfM8vbcQzZ25z5cqyY/Hbj2zVqik0mrMqMnCSlHdBXC/GX/kll//ANfdj/6WQ1uXHjbw/aXUtvcahslhco6+TIcMDgjIX1rkPiZ4k0rxB4Bu9N0i6+0XclxausflumQlzE7HLADhVY9e1cVXGYbkkvaRvr1RFDF4eNePNUSs11Xc8irb8B/8lT8L/wDX3P8A+kdxWZ9guf8Ann/48K1fCSHTPH2g6lfDyrS0uJXnk+9sDW0yA4HJ+Z1HA718jgqtOOIg5SSVz9PzfOcsqYCrCGJg21spx/zPo2iud/4T3w1/0Ev/ACBJ/wDE0f8ACe+Gv+gl/wCQJP8A4mvsfruF/wCfkfvR+UfWsP8Azr70dFRXO/8ACe+Gv+gl/wCQJP8A4mj/AIT3w1/0Ev8AyBJ/8TR9dwv/AD8j96D61h/5196Oiornf+E98Nf9BL/yBJ/8TR/wnvhr/oJf+QJP/iaPruF/5+R+9B9aw/8AOvvR0VFc7/wnvhr/AKCX/kCT/wCJo/4T3w1/0Ev/ACBJ/wDE0fXcL/z8j96D61h/5196Oiornf8AhPfDX/QS/wDIEn/xNH/Ce+Gv+gl/5Ak/+Jo+u4X/AJ+R+9B9aw/86+9HRUVzv/Ce+Gv+gl/5Ak/+Jo/4T3w1/wBBL/yBJ/8AE0fXcL/z8j96D61h/wCdfejoqK53/hPfDX/QS/8AIEn/AMTR/wAJ74a/6CX/AJAk/wDiaPruF/5+R+9B9aw/86+9HRUVzv8Awnvhr/oJf+QJP/iaP+E98Nf9BL/yBJ/8TR9dwv8Az8j96D61h/5196Oiornf+E98Nf8AQS/8gSf/ABNH/Ce+Gv8AoJf+QJP/AImj67hf+fkfvQfWsP8Azr70dFRXO/8ACe+Gv+gl/wCQJP8A4mj/AIT3w1/0Ev8AyBJ/8TR9dwv/AD8j96D61h/5196Oiornf+E98Nf9BL/yBJ/8TR/wnvhr/oJf+QJP/iaPruF/5+R+9B9aw/8AOvvR0VFZ2k6/puueb/Zdz5/k7fM/dsuM5x94D0NaNdEJwqR5oO68jeM4zXNF3QUUUVZQUUUUAFFFZviPV/8AhH/Cuq6z5H2j+zrKa78nfs8zy0L7d2DjOMZwaANKivG/+F5av/0KVl/4OX/+R6uaV8ZtRv8AU4ra58MWsET53SR6q0jDCk/dMC56eorj+vYZ/bR6ssnx8IuUqTsj1iivG/8AheWr/wDQpWX/AIOX/wDketPwx8Xr7XfF2maLeeHLezTUJJIxPFqTTFCsLyfdMK5z5eOveqhjMPOSjGabZFXKsdRg6lSm0luz1Giiiuo80KKK5T4g+NJvBGkWN3baamoy3l6LRYpLkwKv7qSTduCP/wA88Yx3qZSUYuT2RdOEqk1CCu3ojq6K8b/4Xlq//QpWX/g5f/5Ho/4Xlq//AEKVl/4OX/8AkeuT6/hf50ep/YuY/wDPpnslFeK3fx71Szsp7qXwjZlIY2kYLrLZIAycf6P7V7VW9KtTrK9N3OLE4OvhWo14uLfcKKKK2OUKKKKACiiigAooooAKKKKACiiigAooooAKKKKACqt9c3EOyOytftFxJkqHYxxqB1LPg46gAAEknpgMRarN1qPVJ4YodKWAo7H7QZLloX2f3UZUbBPduoGcYJDLE21FtGtGKlUSdvnoixpt9/aFiJzH5biSSKRN24B0co2DxkblODgZGOB0rF+I/wDySzxX/wBgW8/9EPW5YJJFYQxzW8FqyLtENu+6NAOAFO1eMY7DHSsP4j/8ks8V/wDYFvP/AEQ9ON+VXJqW53y7XPnmtDQv+Q1B/wAC/wDQTWfWhoX/ACGoP+Bf+gmvgKfxx9T9rxv+61P8L/Iz62/Af/JU/C//AF9z/wDpHcViVt+A/wDkqfhf/r7n/wDSO4rpwH+9Q9Tjzr/kXVfQ+j6KKK+4Px0K8w+On/Iu6B/2Gh/6S3Nen1518Z57WDw9o322z+1h9WCx/vSnlt9nnO7jrwGGP9rPaufFf7vP0f5HdlztjaLSv70fzR41RWh9s07/AKBf/kw1H2zTv+gX/wCTDV8Nyr+Zfj/kfsHt6n/PqX/kv/yRga7/AMi7qX/XpL/6Aa+ua+WtWv8ASo9FvXn0bzolt5C8f2p13jacjI6Z9a+pa+kyZJQnZ31PguKpynWpuUXHR727+TYUUUV7p8cFFFFABRRRQAUUUUAFFFFABRRRQAUUUUAFFFFABRRRQAVzfxH/AOSWeK/+wLef+iHrX1TSLHWrVbfU4POiVw4Xey4YAjOQR2JrK/4QHw1/0Df/ACPJ/wDFVhUlXUvcimvNtf8AtrMZyqp+5FNeba/RnzvWhoX/ACGoP+Bf+gmveP8AhAfDX/QN/wDI8n/xVKvgPw4rZXTiD6i4l/8Aiq+bhlGKjJO8fvf+R9rW4ur1qcqbw6V01fnfX/tw+dq2/Af/ACVPwv8A9fc//pHcV7b/AMID4a/6Bv8A5Hk/+Ko/4QHw1/0Df/I8n/xVaUMrxVGrGp7rt5v/AORMcbxTiMXh50Pq6XMrX52//bDoqK53/hAfDX/QN/8AI8n/AMVR/wAID4a/6Bv/AJHk/wDiq9znxX8kf/An/wDInxvNiP5V/wCBP/5E6KvMPjp/yLugf9hof+ktzXW/8ID4a/6Bv/keT/4qj/hAfDX/AEDf/I8n/wAVWdVYqpTlDljqmvif/wAidGGxGIoV4VuRPladuZ9Hf+U+d6K+iP8AhAfDX/QN/wDI8n/xVH/CA+Gv+gb/AOR5P/iq8H+x8V3j97/yPtf9csR/0DL/AMGP/wCVnzRrv/Iu6l/16S/+gGvrmud/4QHw1/0Df/I8n/xVH/CA+Gv+gb/5Hk/+Kr08FhsVhIuNou/95r/20+dzfN8RmdSM/ZKNlb42/wD2xHRUVzv/AAgPhr/oG/8AkeT/AOKo/wCEB8Nf9A3/AMjyf/FV38+K/kj/AOBP/wCRPE5sR/Kv/An/APInRUVzv/CA+Gv+gb/5Hk/+Ko/4QHw1/wBA3/yPJ/8AFUc+K/kj/wCBP/5EObEfyr/wJ/8AyJ0VFc7/AMID4a/6Bv8A5Hk/+Ko/4QHw1/0Df/I8n/xVHPiv5I/+BP8A+RDmxH8q/wDAn/8AInRUVzv/AAgPhr/oG/8AkeT/AOKo/wCEB8Nf9A3/AMjyf/FUc+K/kj/4E/8A5EObEfyr/wACf/yJ0VFc7/wgPhr/AKBv/keT/wCKo/4QHw1/0Df/ACPJ/wDFUc+K/kj/AOBP/wCRDmxH8q/8Cf8A8idFRXO/8ID4a/6Bv/keT/4qj/hAfDX/AEDf/I8n/wAVRz4r+SP/AIE//kQ5sR/Kv/An/wDInRUVnaToGm6H5v8AZdt5HnbfM/eM2cZx94n1NaNdEHNx99Wfk7/ovyN48zXvKz+//IKKKKsoKKKKACiivHPih4u8S6R4+Gm6Jrk+nWi6ZBOY4reB9zvLOpJMkbHpGvAOOKyrVo0abqT2R04TC1MXWVCl8T/RXPY6K+cP+E88b/8AQ33v/gHZ/wDxitDVvHPjFPsX2fxPdQbrSMvstbU725yx3RHk+2B7V5/9q4a19fuPalw3j4yUWld+Z7/RXzh/wnnjf/ob73/wDs//AIxWhq3jnxin2L7P4nuoN1pGX2Wtqd7c5Y7ojyfbA9qP7Vw1r6/cEuG8fGSi0rvzPf6K+cP+E88b/wDQ33v/AIB2f/xivdPBWoXWr+AfD+pahL513eaZbTzybQu93iVmOAABkk8AYrqw+LpYm/s+h5+PyvEZfy+3S969rO+1v8zbooorrPMCiuA+L2v6x4f8P6TJoGoPp811qYgkljijkYp5Ez4xIrD7yLzjPFeX/wDCeeN/+hvvf/AOz/8AjFcWIx1HDy5Km+57GByfFY+m6tFKydtX6f5n0fRXgFn458YtouotJ4nupJV8ry5WtbUNF83OAIgDkccg+2Kz/wDhPPG//Q33v/gHZ/8Axiud5rhl3+4648N4+TaSWjs9fJP9T6Por5w/4Tzxv/0N97/4B2f/AMYqzpnj3xn/AMJBo8c/ii6uIZ9TtIJYpLS1Cukk6IwysIIyrHkEGqhmeHnJQTd3psTW4dx9GnKrNK0U29ex9DUUUV6Z88FFcl8UNY1HQfh5e3+jXbWd4k9rGk6ojlA9zGjYDgr91iOQa8d/4Tzxv/0N97/4B2f/AMYrjxGMpYZpVOp6uBynE4+LlQSsu7Po+ivnD/hPPG//AEN97/4B2f8A8Yo/4Tzxv/0N97/4B2f/AMYrm/tbC939x6P+rGY9l959H0V4BrnjnxjHrU62vie6toht2xR2tqVX5R3aInrzyaxtS+Ivjqz0m7uovF14XhgeRQ1nZ4JCkjP7n2qlmmH5uXW/oYrh7HOl7VJWtffpufTFFFFemfPhRRRQAUUUUAFY+u6veaQqSQWtnOkjLFGs14YpJZWOFjVfLYEnjkkdycAE1sVn6lHqE26C1hsZ7aeMxyC6LfJnIJKgESAg/dynQ/N83y51Obl912Zvh+T2i50mvN2/EuxGQwoZ1VJSo3qjblB7gEgZHvgfSvCfi9/yVNv+wLa/+j7mvdLWD7LZw2/myzeVGqeZM253wMZY9yepNeF/F7/kqbf9gW1/9H3NcOZX+pyv5fmj2eH7f2rTt/e/9JZx1aGrf8uX/XpH/Ws+tDVv+XL/AK9I/wCtfIR+Fn6dV/j0/n+Rn1oat/y5f9ekf9az60NW/wCXL/r0j/rRH4WFX+PT+f5GfX0N8OP+SWeFP+wLZ/8AohK+ea+hvhx/ySzwp/2BbP8A9EJXv5J/y8+X6nx3GH/Lj/t7/wBtOkooor6I+CPMPjp/yLugf9hof+ktzXklet/HT/kXdA/7DQ/9JbmvJK+Uzn/eF6fqz9M4T/3Gf+N/lE0LP/kC6j/2y/8AQqz61NMnkttL1CWBtrr5eDgHHzEd6j/t3Uf+fj/xxf8ACvLfLyxu+n6vzPcpyrKrV9nFNcy3bX2Y/wB1mfU2n/8AIxaF/wBhrT//AEqiq1/buo/8/H/ji/4VY0zxBqaeIdFC3OBJq1lE37teVe4jVh07gkVthVD28LPqunn6mGYSxP1OtzQjbll9p9n/AHUfSVFFFfcn48cL8Zf+SWX/AP192P8A6WQ14fXuvxcuJbP4c3V3bNsnhurTy3wDjfcRxtweOVdh+PrXjX9u6j/z8f8Aji/4V81nFvaR5ux9/wAKuqqFT2cU9Vu7dPRmfRWh/buo/wDPx/44v+FH9u6j/wA/H/ji/wCFeHaHd/d/wT6/nxX8kf8AwJ//ACIa7/yGp/8AgP8A6CKwNd/5F3Uv+vSX/wBANb+u/wDIan/4D/6CKwNd/wCRd1L/AK9Jf/QDWi/j/P8AUwp/8i5f4P8A20+uaKKK+9PxgKKKKACiiigAooooApapq9jotqtxqc/kxM4QNsZstgnGAD2Brw/4jTx694+OpaS32i0/sy3g8zBX51lnZhhsHgOvOMc/WvfaK4cXh6uIg6aklF+V3991+RrhcVicHiY4ig43XdN7q3SS7ny79guf+ef/AI8Ku6lbSy/ZPLUNstkRsMOCM8V9K0V5SyWSTXtP/Jf/ALY92XE2aSkpv2d1t7suv/b58u/YLn/nn/48Ku6lbSy/ZPLUNstkRsMOCM8V9K0ULJZJNe0/8l/+2CXE2aSkpv2d1t7suv8A2+fLv2C5/wCef/jwr2XwV4t0TSPAPh/TdQvfJu7PTLaCePynbY6RKrDIBBwQeQcV3tFdeFwFbC35Ki17xf8A8keXmWaY/MuT2zguW9rRfW3eb7HO/wDCe+Gv+gl/5Ak/+Jo/4T3w1/0Ev/IEn/xNdFRXbyYr+eP/AIC//kjyOXEfzL/wF/8AyR5F8V9a0/xLoujwaJcfaZbbUxPKuxk2p9nmTPzAZ+Z1GBzzXnX2C5/55/8Ajwr6iorz8TltXEzU51Fe1tI//bHu5dnWY5fSdKk4NN31jLsl0mux81WttKmlX0bKA8nl7RuHOG5ql9guf+ef/jwr6iorneSyaS9pt/d/+2O6PE2aQcmvZ6u792XZL+fskfLv2C5/55/+PCpbOzni1rSZ5ExFb6nZzytkfKkdxG7n3wqk4HPFfTtFVTyadOamqiunf4f/ALYivxLmlelKlL2dpJr4ZdVb+c53/hPfDX/QS/8AIEn/AMTR/wAJ74a/6CX/AJAk/wDia6KivW5MV/PH/wABf/yR8vy4j+Zf+Av/AOSPMviZ4k0rxB4Bu9N0i6+0XclxausflumQlzE7HLADhVY9e1eVfYLn/nn/AOPCvqKiuHFZdWxUk51Fp2i//kj2suzfMMuhKFJwd9dYy/SaPl37Bc/88/8Ax4UfYLn/AJ5/+PCvqKiuP+w5f8/P/Jf/ALY9T/WrNv8Ap3/4DL/5YfNWr20s+qzSQqHRtuCGHPyisfVtJvbnRb2CCHdLLbyIi71GSVIA5NfVtFaf2NPn51U63+H/AO2Mf9ZMzVH2K5OW1vhle1rfz7/I53/hPfDX/QS/8gSf/E0f8J74a/6CX/kCT/4muior1uTFfzx/8Bf/AMkfL8uI/mX/AIC//kjO0nX9N1zzf7LufP8AJ2+Z+7ZcZzj7wHoa0aKK6IKaj77u/JW/V/mbx5kved393+YUUUVZQUUUUAFFMiljnhSaCRZIpFDI6HKsDyCCOop9APTRhRRRQAUUUUAFFFFABRRRQAUUUUAFFFFABRRRQAUUUUAFFFFABRRRQAUUUUAFFFFABRRRQAUUUUAFYusteS3iWx0u5vNO8sNKLd4h5zZP7t97qQgABIGd2cEgBg21RUTjzK1zWlU9nLmtf+vKxj+EXZ/Bmjlo2jP2KIbWIyQEAB4J4PUd8HnB4rYoopwjyxUewqs/aVJTta7bCs3WDOqpINQawtEVjLJCitKzkqERQysCDlhgDcW2AdSDpVFc263UQjc4AkST7qtyrBh1BHUdeo6gg4NE03FpBSkozTexjynU10u3k1DUGsERXM0kSI07EuBEmNrIWKnDBRy+AnBwSU6mul28moag1giK5mkiRGnYlwIkxtZCxU4YKOXwE4ODsXNut1EI3OAJEk+6rcqwYdQR1HXqOoIODRc263UQjc4AkST7qtyrBh1BHUdeo6gg4NZOm9bN7d/6/q50KvHS8Vv2W33eb3vsvnFpn2v+zov7R/4+Oc5xu25O3dt+Xftxu2/LuzjjFWqKK2SsrHLKXNJyta4UUUUyQooooAKKKKACiiigAooooAKKKKACiiigAooooAKKKKACiiigAooooAKKKKAM7Vtf03Q/K/tS58jzt3l/u2bOMZ+6D6is7/hPfDX/AEEv/IEn/wATXRUVzzjiHL3JJLzi3/7cvyMZRrN+7JJejf6o53/hPfDX/QS/8gSf/E0f8J74a/6CX/kCT/4muioqOTFfzx/8Bf8A8kRy4j+Zf+Av/wCSOd/4T3w1/wBBL/yBJ/8AE0f8J74a/wCgl/5Ak/8Aia6KijkxX88f/AX/APJBy4j+Zf8AgL/+SOd/4T3w1/0Ev/IEn/xNH/Ce+Gv+gl/5Ak/+JroqKOTFfzx/8Bf/AMkHLiP5l/4C/wD5I53/AIT3w1/0Ev8AyBJ/8TR/wnvhr/oJf+QJP/ia6KijkxX88f8AwF//ACQcuI/mX/gL/wDkjnf+E98Nf9BL/wAgSf8AxNH/AAnvhr/oJf8AkCT/AOJroqKOTFfzx/8AAX/8kHLiP5l/4C//AJI53/hPfDX/AEEv/IEn/wATR/wnvhr/AKCX/kCT/wCJroqKOTFfzx/8Bf8A8kHLiP5l/wCAv/5I53/hPfDX/QS/8gSf/E0f8J74a/6CX/kCT/4muioo5MV/PH/wF/8AyQcuI/mX/gL/APkjnf8AhPfDX/QS/wDIEn/xNH/Ce+Gv+gl/5Ak/+JroqKOTFfzx/wDAX/8AJBy4j+Zf+Av/AOSOd/4T3w1/0Ev/ACBJ/wDE0f8ACe+Gv+gl/wCQJP8A4muioo5MV/PH/wABf/yQcuI/mX/gL/8Akjnf+E98Nf8AQS/8gSf/ABNH/Ce+Gv8AoJf+QJP/AImuioo5MV/PH/wF/wDyQcuI/mX/AIC//kjnf+E98Nf9BL/yBJ/8TR/wnvhr/oJf+QJP/ia6KijkxX88f/AX/wDJBy4j+Zf+Av8A+SOd/wCE98Nf9BL/AMgSf/E0f8J74a/6CX/kCT/4muioo5MV/PH/AMBf/wAkHLiP5l/4C/8A5IztJ1/Tdc83+y7nz/J2+Z+7ZcZzj7wHoa0aKK6IKaj77u/JW/V/mbx5kved393+YUUUVZQUUUUAFFFFABRRRQAUUUUAFFFFABRRRQAUUUUAFFFFABRRRQAUUUUAFFFFABRRRQAUUUUAFFFFABRRRQAUUUUAf//Z)\n",
        "\n",
        "a) How many ways are there to build a wall with four bricks, five, six? \n",
        "\n",
        "b) Make sure to show your sketches to prove your answer.\n",
        "\n",
        "c) How does the Fibonacci Series fit into this problem?\n"
      ],
      "metadata": {
        "id": "NRTELX0TPBSl"
      }
    },
    {
      "cell_type": "markdown",
      "source": [
        "**Question 2 - Calculation**"
      ],
      "metadata": {
        "id": "kWQhii6TknO3"
      }
    },
    {
      "cell_type": "code",
      "source": [
        "#Question 2 -Code\n",
        "\n",
        "#a)\n"
      ],
      "metadata": {
        "id": "zDdhumK0b6iQ"
      },
      "execution_count": null,
      "outputs": []
    },
    {
      "cell_type": "markdown",
      "source": [
        "Question 3 (Application)\n",
        "\n",
        "Build Tower of Hanoi Algorithm using python code and label the decomposition inside the algorithm."
      ],
      "metadata": {
        "id": "UNU-UgMglADa"
      }
    },
    {
      "cell_type": "code",
      "source": [
        "#Question 3 - Code"
      ],
      "metadata": {
        "id": "XMLNY6dflgvx"
      },
      "execution_count": null,
      "outputs": []
    },
    {
      "cell_type": "markdown",
      "source": [
        "**REFERENCE**\n",
        "\n",
        "1. [Factorial](https://www.math.net/permutation#:~:text=Another%20example%20of%20a%20permutation,call%20it%20a%20combination%20instead.)\n",
        "\n",
        "2. [Binary Search](https://youtu.be/C2apEw9pgtw)\n",
        "\n",
        "3. [fibonacci](https://r-knott.surrey.ac.uk/Fibonacci/fibpuzzles.html)"
      ],
      "metadata": {
        "id": "9BN6PbxNIkeV"
      }
    }
  ]
}