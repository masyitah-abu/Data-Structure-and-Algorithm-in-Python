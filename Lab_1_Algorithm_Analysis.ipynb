{
  "nbformat": 4,
  "nbformat_minor": 0,
  "metadata": {
    "colab": {
      "provenance": [],
      "collapsed_sections": [],
      "authorship_tag": "ABX9TyPg8vGesASU2S8LXCQfMrH8",
      "include_colab_link": true
    },
    "kernelspec": {
      "name": "python3",
      "display_name": "Python 3"
    },
    "language_info": {
      "name": "python"
    }
  },
  "cells": [
    {
      "cell_type": "markdown",
      "metadata": {
        "id": "view-in-github",
        "colab_type": "text"
      },
      "source": [
        "<a href=\"https://colab.research.google.com/github/masyitah-abu/Data-Structure-and-Algorithm-in-Python/blob/main/Lab_1_Algorithm_Analysis.ipynb\" target=\"_parent\"><img src=\"https://colab.research.google.com/assets/colab-badge.svg\" alt=\"Open In Colab\"/></a>"
      ]
    },
    {
      "cell_type": "markdown",
      "source": [
        "Introduction on Python"
      ],
      "metadata": {
        "id": "sFVKNaqUDXRH"
      }
    },
    {
      "cell_type": "code",
      "execution_count": 6,
      "metadata": {
        "id": "6G8yIeC5k05G",
        "colab": {
          "base_uri": "https://localhost:8080/"
        },
        "outputId": "73070354-bfee-437d-e545-a695b9a17a34"
      },
      "outputs": [
        {
          "output_type": "stream",
          "name": "stdout",
          "text": [
            "The output of insert array:  [1, 2, 3, 4]\n",
            "The output of append array:  [1, 3, 4, 2]\n"
          ]
        }
      ],
      "source": [
        "# Adding a number to the front of an array\n",
        "# For this part several python package had been develop \n",
        "\n",
        "#1. insert()\n",
        "x = [1,3,4] #array\n",
        "a = 2 #assign a value to variable\n",
        "x.insert(1,a) #using package insert to insert data in variable a in array\n",
        "print('The output of insert array: ',x) #print the output\n",
        "\n",
        "#2. Append()\n",
        "x = [1,3,4] #array\n",
        "a = 2 #assign a value to variable\n",
        "x.append(a) #using package insert to insert data in variable a in array\n",
        "print('The output of append array: ',x) #print the output"
      ]
    },
    {
      "cell_type": "code",
      "source": [
        "# Adding two numbers\n",
        "# Store input numbers\n",
        "num1 = input('Enter first number: ')\n",
        "num2 = input('Enter second number: ')\n",
        "\n",
        "# Add two numbers\n",
        "sum = float(num1) + float(num2)\n",
        "\n",
        "# Display the sum\n",
        "print('The sum of {0} and {1} is {2}'.format(num1, num2, sum))"
      ],
      "metadata": {
        "colab": {
          "base_uri": "https://localhost:8080/"
        },
        "id": "XayDwYAJ-vKn",
        "outputId": "1f1bfef6-1716-42f0-8713-8431d6b93072"
      },
      "execution_count": 7,
      "outputs": [
        {
          "output_type": "stream",
          "name": "stdout",
          "text": [
            "Enter first number: 1\n",
            "Enter second number: 2\n",
            "The sum of 1 and 2 is 3.0\n"
          ]
        }
      ]
    },
    {
      "cell_type": "code",
      "source": [
        "# Comparing two numbers\n",
        "def compare(a,b):\n",
        "  if a>b:\n",
        "    disp=\"A > B\"\n",
        "  elif a<b:\n",
        "    disp=\"A < B\"\n",
        "  else:\n",
        "    disp=\"A = B\"\n",
        "  return print(disp)  \n",
        "\n",
        "#num1=int(input(\"A : \"))\n",
        "#num2=int(input(\"B : \"))\n",
        "#compare(num1,num2)\n",
        "compare(3,2)"
      ],
      "metadata": {
        "colab": {
          "base_uri": "https://localhost:8080/"
        },
        "id": "nzpSwFI0-4CW",
        "outputId": "ffd4d138-833a-47fb-a9d7-c173c5b87e0b"
      },
      "execution_count": 10,
      "outputs": [
        {
          "output_type": "stream",
          "name": "stdout",
          "text": [
            "A > B\n"
          ]
        }
      ]
    },
    {
      "cell_type": "markdown",
      "source": [
        "**The Constant Function**\n",
        "\n",
        "For constant function the computation time does not change with the input size."
      ],
      "metadata": {
        "id": "fpkhSGcvlBU5"
      }
    },
    {
      "cell_type": "code",
      "source": [
        "#Constant Complexity - O(c) (based on formula)\n",
        "\n",
        "import matplotlib.pyplot as plt #import module \n",
        "\n",
        "steps = [] #set variable to store the array\n",
        "def constant(n): #based on the formula constant is 1\n",
        "    return 1\n",
        "    \n",
        "for i in range(1, 100): #create range 1-100\n",
        "    steps.append(constant(i)) #save in variable step\n",
        "plt.plot(steps) #plot the graph in step"
      ],
      "metadata": {
        "colab": {
          "base_uri": "https://localhost:8080/",
          "height": 282
        },
        "id": "fymF3RQhBxeo",
        "outputId": "0b76053e-30c3-4c2a-aeb7-7586f48a0172"
      },
      "execution_count": 11,
      "outputs": [
        {
          "output_type": "execute_result",
          "data": {
            "text/plain": [
              "[<matplotlib.lines.Line2D at 0x7f090786d6d0>]"
            ]
          },
          "metadata": {},
          "execution_count": 11
        },
        {
          "output_type": "display_data",
          "data": {
            "text/plain": [
              "<Figure size 432x288 with 1 Axes>"
            ],
            "image/png": "[encoded data removed]"
          },
          "metadata": {
            "needs_background": "light"
          }
        }
      ]
    },
    {
      "cell_type": "markdown",
      "source": [
        "**The Logarithmic Function**\n",
        "\n",
        "Computational time increases logarithmically with input size"
      ],
      "metadata": {
        "id": "uQ7a0H8pnYpS"
      }
    },
    {
      "cell_type": "code",
      "source": [
        "import matplotlib.pyplot as plt\n",
        "import math\n",
        "\n",
        "steps = []\n",
        "def logarithmic(n):\n",
        "    return math.log(n) #formula for logarithmic\n",
        "    \n",
        "for i in range(1, 100):\n",
        "    steps.append(logarithmic(i))\n",
        "    \n",
        "plt.plot(steps)\n",
        "plt.xlabel('Inputs')\n",
        "plt.ylabel('Steps')"
      ],
      "metadata": {
        "id": "8XRbavR7nnIc",
        "colab": {
          "base_uri": "https://localhost:8080/",
          "height": 296
        },
        "outputId": "203d4ddd-1d4f-4f03-feb6-2f42a3c32473"
      },
      "execution_count": 18,
      "outputs": [
        {
          "output_type": "execute_result",
          "data": {
            "text/plain": [
              "Text(0, 0.5, 'Steps')"
            ]
          },
          "metadata": {},
          "execution_count": 18
        },
        {
          "output_type": "display_data",
          "data": {
            "text/plain": [
              "<Figure size 432x288 with 1 Axes>"
            ],
            "image/png": "[encoded data removed]"
          },
          "metadata": {
            "needs_background": "light"
          }
        }
      ]
    },
    {
      "cell_type": "markdown",
      "source": [
        "**The Linear Function**\n",
        "\n",
        "The computational time is increase linearly with input size"
      ],
      "metadata": {
        "id": "2ccVu5zgnrqo"
      }
    },
    {
      "cell_type": "code",
      "source": [
        "import matplotlib.pyplot as plt\n",
        "\n",
        "steps = []\n",
        "def linear(n):\n",
        "    return n #formula for linear\n",
        "    \n",
        "for i in range(1, 100):\n",
        "    steps.append(linear(i))\n",
        "    \n",
        "plt.plot(steps)\n",
        "plt.xlabel('Inputs')\n",
        "plt.ylabel('Steps')"
      ],
      "metadata": {
        "id": "gfoBDu-wn7EB",
        "colab": {
          "base_uri": "https://localhost:8080/",
          "height": 296
        },
        "outputId": "5f64a89b-7d64-4868-ba6b-d6e8b4759e02"
      },
      "execution_count": 12,
      "outputs": [
        {
          "output_type": "execute_result",
          "data": {
            "text/plain": [
              "Text(0, 0.5, 'Steps')"
            ]
          },
          "metadata": {},
          "execution_count": 12
        },
        {
          "output_type": "display_data",
          "data": {
            "text/plain": [
              "<Figure size 432x288 with 1 Axes>"
            ],
            "image/png": "[encoded data removed]"
          },
          "metadata": {
            "needs_background": "light"
          }
        }
      ]
    },
    {
      "cell_type": "markdown",
      "source": [
        "**The N-Log-N function**\n",
        "\n",
        "The function grows a little more rapidly than the linear function and a lot less rapidly than the quadratic function"
      ],
      "metadata": {
        "id": "WWjvML06n-fA"
      }
    },
    {
      "cell_type": "code",
      "source": [
        "import matplotlib.pyplot as plt\n",
        "import math\n",
        "\n",
        "steps = []\n",
        "def Loglinear(n):\n",
        "    return n*math.log(n) #formula for loglinear\n",
        "    \n",
        "for i in range(1, 100):\n",
        "    steps.append(Loglinear(i))\n",
        "    \n",
        "plt.plot(steps)\n",
        "plt.xlabel('Inputs')\n",
        "plt.ylabel('Steps')"
      ],
      "metadata": {
        "id": "lLoGM1d4oRQ5",
        "colab": {
          "base_uri": "https://localhost:8080/",
          "height": 296
        },
        "outputId": "57648d49-2c8b-4f1b-e010-31f730c017dd"
      },
      "execution_count": 20,
      "outputs": [
        {
          "output_type": "execute_result",
          "data": {
            "text/plain": [
              "Text(0, 0.5, 'Steps')"
            ]
          },
          "metadata": {},
          "execution_count": 20
        },
        {
          "output_type": "display_data",
          "data": {
            "text/plain": [
              "<Figure size 432x288 with 1 Axes>"
            ],
            "image/png": "[encoded data removed]"
          },
          "metadata": {
            "needs_background": "light"
          }
        }
      ]
    },
    {
      "cell_type": "markdown",
      "source": [
        "**The quadratic function**\n",
        "\n",
        "the square root input"
      ],
      "metadata": {
        "id": "Wzm3EgHloS9o"
      }
    },
    {
      "cell_type": "code",
      "source": [
        "import matplotlib.pyplot as plt\n",
        "\n",
        "steps = []\n",
        "def quadratic(n):\n",
        "    return n**2 #formula for quadratic\n",
        "    \n",
        "for i in range(1, 100):\n",
        "    steps.append(quadratic(i))\n",
        "    \n",
        "plt.plot(steps)\n",
        "plt.xlabel('Inputs')\n",
        "plt.ylabel('Steps')"
      ],
      "metadata": {
        "id": "_Vw9ndYDofaX",
        "colab": {
          "base_uri": "https://localhost:8080/",
          "height": 296
        },
        "outputId": "30513e4a-ad8a-46a4-d622-630479fe92d6"
      },
      "execution_count": 16,
      "outputs": [
        {
          "output_type": "execute_result",
          "data": {
            "text/plain": [
              "Text(0, 0.5, 'Steps')"
            ]
          },
          "metadata": {},
          "execution_count": 16
        },
        {
          "output_type": "display_data",
          "data": {
            "text/plain": [
              "<Figure size 432x288 with 1 Axes>"
            ],
            "image/png": "[encoded data removed]"
          },
          "metadata": {
            "needs_background": "light"
          }
        }
      ]
    },
    {
      "cell_type": "markdown",
      "source": [
        "**The cubic and polynomials function**\n",
        "\n",
        "the cube root input"
      ],
      "metadata": {
        "id": "YiyIPksiofzi"
      }
    },
    {
      "cell_type": "code",
      "source": [
        "import matplotlib.pyplot as plt\n",
        "\n",
        "steps = []\n",
        "def cubic(n):\n",
        "    return n**3 #formula for cubic\n",
        "    \n",
        "for i in range(1, 100):\n",
        "    steps.append(cubic(i))\n",
        "    \n",
        "plt.plot(steps)\n",
        "plt.xlabel('Inputs')\n",
        "plt.ylabel('Steps')"
      ],
      "metadata": {
        "id": "paH1CDzcorX3",
        "colab": {
          "base_uri": "https://localhost:8080/",
          "height": 307
        },
        "outputId": "683b1588-61a6-4620-b06f-ece0a64d8750"
      },
      "execution_count": 19,
      "outputs": [
        {
          "output_type": "execute_result",
          "data": {
            "text/plain": [
              "Text(0, 0.5, 'Steps')"
            ]
          },
          "metadata": {},
          "execution_count": 19
        },
        {
          "output_type": "display_data",
          "data": {
            "text/plain": [
              "<Figure size 432x288 with 1 Axes>"
            ],
            "image/png": "[encoded data removed]"
          },
          "metadata": {
            "needs_background": "light"
          }
        }
      ]
    },
    {
      "cell_type": "markdown",
      "source": [
        "**The Exponential function**"
      ],
      "metadata": {
        "id": "wZXqQZ0kovMZ"
      }
    },
    {
      "cell_type": "code",
      "source": [
        "import matplotlib.pyplot as plt\n",
        "\n",
        "steps = []\n",
        "def exponential(n):\n",
        "    return n**2 #formula for exponential\n",
        "    \n",
        "for i in range(1, 100):\n",
        "    steps.append(exponential(i))\n",
        "    \n",
        "plt.plot(steps)\n",
        "plt.xlabel('Inputs')\n",
        "plt.ylabel('Steps')"
      ],
      "metadata": {
        "id": "-sQ1Weffo2_M"
      },
      "execution_count": null,
      "outputs": []
    },
    {
      "cell_type": "markdown",
      "source": [
        "**Assignment**\n",
        "\n",
        "From example given above try answer the following question by build simple program to solve the problem.\n",
        "\n",
        "**Question 1** (Linear Function)\n",
        "[link text](https://www.analyzemath.com/math_problems/linear_func_problems.html)\n",
        "\n",
        "A high school had 1200 students enrolled in 2003 and 1500 students in 2006. If the student population P: grows as a linear function of time t, where t is the number of years after 2003.\n",
        "\n",
        "a) Find a linear function that relates the student population to the time t.\n",
        "\n",
        "b) How many students will be enrolled in the school in 2010?\n",
        "\n",
        "c) Build a graph from the linear function obtain from 2003 until 2010.\n",
        "\n",
        "**Question 2** (Polynomial Function)\n",
        "\n",
        "Square of the same size are cut from the four corners of a rectangular cardboard with dimensions 30 cm by 20 cm. After cutting, the cardboard is folded to make an open box. \n",
        "\n",
        "a) Find the equation that describes the volume of the box.\n",
        "\n",
        "b) What is the volume of the box is the corner cut is 5 cm.\n",
        "\n",
        "c) Plot the position for the box volume with 5 cm cut."
      ],
      "metadata": {
        "id": "3YZhi3wRpEtM"
      }
    },
    {
      "cell_type": "code",
      "source": [
        "#Question 1\n",
        "\n",
        "#a\n",
        "\n",
        "#b\n",
        "\n",
        "#c"
      ],
      "metadata": {
        "id": "InFTFtr9pJVQ"
      },
      "execution_count": null,
      "outputs": []
    },
    {
      "cell_type": "code",
      "source": [
        "#Question 2\n",
        "\n",
        "#a\n",
        "\n",
        "#b\n",
        "\n",
        "#c"
      ],
      "metadata": {
        "id": "N4ncJ-9IyLpR"
      },
      "execution_count": null,
      "outputs": []
    },
    {
      "cell_type": "markdown",
      "source": [
        "**Reference**\n",
        "\n",
        "1. [Big O notation and algorithm analysis](https://stackabuse.com/big-o-notation-and-algorithm-analysis-with-python-examples/)\n",
        "\n",
        "2. [All You Need to Know About Big O Notation](https://skerritt.blog/big-o/)"
      ],
      "metadata": {
        "id": "K2XK9p1NJE2m"
      }
    }
  ]
}