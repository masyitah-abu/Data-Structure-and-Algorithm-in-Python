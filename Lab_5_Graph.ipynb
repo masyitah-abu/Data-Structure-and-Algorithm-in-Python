{
  "nbformat": 4,
  "nbformat_minor": 0,
  "metadata": {
    "colab": {
      "provenance": []
    },
    "kernelspec": {
      "name": "python3",
      "display_name": "Python 3"
    },
    "language_info": {
      "name": "python"
    }
  },
  "cells": [
    {
      "cell_type": "markdown",
      "source": [
        "Graph algorithm\n",
        "\n",
        "1. graph traversal algorithm (already provided)\n",
        "2. trasitive closure (group 1)\n",
        "3. directed acyclic graph (group 2)\n",
        "4. shortest paths (graup 3)\n",
        "5. minimum spanning trees (group 4)"
      ],
      "metadata": {
        "id": "mwGLd5t354Ci"
      }
    },
    {
      "cell_type": "markdown",
      "source": [
        "#**Graph Traversal Algorithm**\n"
      ],
      "metadata": {
        "id": "evL6Fn4D50g8"
      }
    },
    {
      "cell_type": "markdown",
      "source": [
        "**Depth First Search**"
      ],
      "metadata": {
        "id": "VuErmheyLWAr"
      }
    },
    {
      "cell_type": "code",
      "source": [
        "graph = {\n",
        "  '51' : ['35','73'],\n",
        "  '35' : ['26', '48'],\n",
        "  '73' : ['83'],\n",
        "  '26' : [],\n",
        "  '48' : ['13'],\n",
        "  '83' : [],\n",
        "  '13' : []\n",
        "}\n",
        "\n",
        "visited = set() # Set to keep track of visited nodes of graph.\n",
        "\n",
        "def dfs(visited, graph, node):  #function for dfs \n",
        "    if node not in visited:\n",
        "        print (node)\n",
        "        visited.add(node)\n",
        "        for neighbour in graph[node]:\n",
        "            dfs(visited, graph, neighbour)\n",
        "\n",
        "# Driver Code\n",
        "print(\"Following is the Depth-First Search\")\n",
        "dfs(visited, graph, '51')"
      ],
      "metadata": {
        "id": "hdHh-MN86oIU",
        "colab": {
          "base_uri": "https://localhost:8080/"
        },
        "outputId": "3bc65099-638e-44d6-bbb9-cf0b1969b126"
      },
      "execution_count": 1,
      "outputs": [
        {
          "output_type": "stream",
          "name": "stdout",
          "text": [
            "Following is the Depth-First Search\n",
            "51\n",
            "35\n",
            "26\n",
            "48\n",
            "13\n",
            "73\n",
            "83\n"
          ]
        }
      ]
    },
    {
      "cell_type": "markdown",
      "source": [
        "**Breadth First Search**"
      ],
      "metadata": {
        "id": "2I0z2hxDLfJC"
      }
    },
    {
      "cell_type": "code",
      "source": [
        "graph = {\n",
        "  '1' : ['2','3'],\n",
        "  '2' : ['4', '5'],\n",
        "  '3' : [],\n",
        "  '4' : [],\n",
        "  '5' : []\n",
        "  \n",
        "}\n",
        "\n",
        "visited = [] \n",
        "queue = []     \n",
        "\n",
        "\n",
        "def bfs(visited, graph, node): \n",
        "  visited.append(node)\n",
        "  queue.append(node)\n",
        "\n",
        "  while queue:          \n",
        "    s = queue.pop(0) \n",
        "    print (s, end = \" \") \n",
        "    \n",
        "\n",
        "    for neighbour in graph[s]:\n",
        "      if neighbour not in visited:\n",
        "        visited.append(neighbour)\n",
        "        queue.append(neighbour)\n",
        "\n",
        "print(\"Following is the Breadth-First:\")\n",
        "bfs(visited, graph,'1')"
      ],
      "metadata": {
        "id": "t2oh7sO3LkIa",
        "colab": {
          "base_uri": "https://localhost:8080/"
        },
        "outputId": "68dd63d5-d950-4992-d672-887fbeefcbaf"
      },
      "execution_count": 2,
      "outputs": [
        {
          "output_type": "stream",
          "name": "stdout",
          "text": [
            "Following is the Breadth-First:\n",
            "1 2 3 4 5 "
          ]
        }
      ]
    },
    {
      "cell_type": "markdown",
      "source": [
        "**trasitive closure**\n",
        "\n",
        "Group 1\n",
        "\n",
        "name:\n",
        "\n",
        "1.\n",
        "\n",
        "2."
      ],
      "metadata": {
        "id": "g_7MorjRP71b"
      }
    },
    {
      "cell_type": "code",
      "source": [],
      "metadata": {
        "id": "PIWkeJLhP9M6"
      },
      "execution_count": 2,
      "outputs": []
    },
    {
      "cell_type": "markdown",
      "source": [
        "**Directed Acyclic Graph**\n",
        "\n",
        "Group 2\n",
        "\n",
        "name:\n",
        "\n",
        "1.\n",
        "\n",
        "2."
      ],
      "metadata": {
        "id": "LLcZI878s9KC"
      }
    },
    {
      "cell_type": "code",
      "source": [],
      "metadata": {
        "id": "MpU2FY76tFPo"
      },
      "execution_count": null,
      "outputs": []
    },
    {
      "cell_type": "markdown",
      "source": [
        "**Shortest path**\n",
        "\n",
        "Group 3\n",
        "\n",
        "name:\n",
        "\n",
        "1.\n",
        "\n",
        "2."
      ],
      "metadata": {
        "id": "aC1Fhz3jR_eq"
      }
    },
    {
      "cell_type": "code",
      "source": [
        "#Shortest path - Algorithm"
      ],
      "metadata": {
        "id": "kpXAMGYVYGfC"
      },
      "execution_count": 3,
      "outputs": []
    },
    {
      "cell_type": "markdown",
      "source": [
        "**Minimum Spanning Trees**\n",
        "\n",
        "Group 4\n",
        "\n",
        "name:\n",
        "\n",
        "1.\n",
        "\n",
        "2."
      ],
      "metadata": {
        "id": "DMr74lY9tJLC"
      }
    },
    {
      "cell_type": "code",
      "source": [],
      "metadata": {
        "id": "OcP2SqA_tPZL"
      },
      "execution_count": null,
      "outputs": []
    }
  ]
}