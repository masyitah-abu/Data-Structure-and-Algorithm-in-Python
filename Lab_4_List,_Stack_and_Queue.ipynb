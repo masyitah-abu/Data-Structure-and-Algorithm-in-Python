{
  "nbformat": 4,
  "nbformat_minor": 0,
  "metadata": {
    "colab": {
      "provenance": [],
      "collapsed_sections": [],
      "authorship_tag": "ABX9TyNON48s9VQV9pCknAS19eQu",
      "include_colab_link": true
    },
    "kernelspec": {
      "name": "python3",
      "display_name": "Python 3"
    },
    "language_info": {
      "name": "python"
    }
  },
  "cells": [
    {
      "cell_type": "markdown",
      "metadata": {
        "id": "view-in-github",
        "colab_type": "text"
      },
      "source": [
        "<a href=\"https://colab.research.google.com/github/masyitah-abu/Data-Structure-and-Algorithm-in-Python/blob/main/Lab_4_List%2C_Stack_and_Queue.ipynb\" target=\"_parent\"><img src=\"https://colab.research.google.com/assets/colab-badge.svg\" alt=\"Open In Colab\"/></a>"
      ]
    },
    {
      "cell_type": "markdown",
      "source": [
        "LIST"
      ],
      "metadata": {
        "id": "b56Q93lbrnKX"
      }
    },
    {
      "cell_type": "markdown",
      "source": [
        "STACK"
      ],
      "metadata": {
        "id": "RpoOSxCLrp_C"
      }
    },
    {
      "cell_type": "code",
      "source": [
        "# define a new type of exception for stack ADT\n",
        "class Empty(Exception):\n",
        "  ''' Error attempting to access an element from an empty container.'''\n",
        "  pass\n",
        "\n",
        "class ArrayStack:\n",
        "  ''' LIFO stack implementation using a Python List as underlying storage'''\n",
        "\n",
        "  def __init__(self):\n",
        "    ''' create an empty stack'''\n",
        "    self._data = []    # nonpublic list instance\n",
        "\n",
        "  def __len__(self):\n",
        "    ''' return the number of elements in a stack'''\n",
        "    return len(self._data)\n",
        "\n",
        "  def is_empty(self):\n",
        "    ''' Return True if the stack is empty'''\n",
        "    return len(self._data) == 0\n",
        "\n",
        "  def push(self, e):\n",
        "    ''' Add element e to the top of the stack'''\n",
        "    self._data.append(e)  # new item stored at end of a list\n",
        "  \n",
        "  def top(self):\n",
        "    ''' \n",
        "    Return the element at the top of the stack\n",
        "    Raise Empty Exception if the stack is empty\n",
        "    '''\n",
        "    if self.is_empty():\n",
        "      raise Empty('Stack is Empty')\n",
        "    return self._data[-1]           # the last item in the list\n",
        "\n",
        "  def pop(self):\n",
        "    ''' \n",
        "    Remove and return the element from the top of the stack \n",
        "    Raise Empty excepion if the stack is empty\n",
        "    '''\n",
        "    if self.is_empty():\n",
        "            raise Empty('Stack is Empty')\n",
        "    return self._data.pop()\n",
        "\n",
        "  def __str__(self):\n",
        "    ''' \n",
        "    A string representation of the stack\n",
        "    An arrow shows the top of the stack\n",
        "    '''\n",
        "    return ''.join(str(self._data)) +'>'\n",
        "\n",
        "################\n",
        "S = ArrayStack()\n",
        "S.push(5)\n",
        "S.push(3)\n",
        "print('Stack Length: ', len(S))\n",
        "print('S: ', S)\n",
        "print('Pop ', S.pop())\n",
        "print('Is stack Empty? ', S.is_empty())\n",
        "print('Pop ', S.pop())\n",
        "print('Is stack Empty? ', S.is_empty())\n",
        "print('S:', S)\n",
        "S.push(7)\n",
        "S.push(9)\n",
        "print('Top Element in Stack: ', S.top())\n",
        "S.push(4)\n",
        "S.push(6)\n",
        "print('S: ', S)"
      ],
      "metadata": {
        "colab": {
          "base_uri": "https://localhost:8080/"
        },
        "id": "0bawDzNNugb2",
        "outputId": "4161f2e6-3873-44ab-d70d-5727564fe3e7"
      },
      "execution_count": null,
      "outputs": [
        {
          "output_type": "stream",
          "name": "stdout",
          "text": [
            "Stack Length:  2\n",
            "S:  [5, 3]>\n",
            "Pop  3\n",
            "Is stack Empty?  False\n",
            "Pop  5\n",
            "Is stack Empty?  True\n",
            "S: []>\n",
            "Top Element in Stack:  9\n",
            "S:  [7, 9, 4, 6]>\n"
          ]
        }
      ]
    },
    {
      "cell_type": "code",
      "source": [
        "#Reversing Data using a Stack\n",
        "def reverse_file(filename):\n",
        "  ''' Overwrite given file with its conent line-by-line reversed'''\n",
        "\n",
        "  S = ArrayStack()\n",
        "  original = open(filename)\n",
        "  for line in original:\n",
        "    S.push(line.rstrip('\\n')) # we will re-insert newlines when writing\n",
        "  original.close()\n",
        "\n",
        "  # Now we overwrite with contents in LIFO order\n",
        "  output = open(filename, 'w') # reopening file overwrites original\n",
        "  while not S.is_empty():\n",
        "    output.write(S.pop() + '\\n') # re-insert newline characters\n",
        "  output.close()\n",
        "\n",
        "###########\n",
        "file = open(\"initial.txt\", 'w')\n",
        "file.write(\"I am going home.\\n\")\n",
        "file.write(\"Today is a holiday.\")\n",
        "file.close()\n",
        "\n",
        "!cat initial.txt\n",
        "print('\\n\\n')\n",
        "reverse_file(\"initial.txt\")\n",
        "!cat initial.txt"
      ],
      "metadata": {
        "colab": {
          "base_uri": "https://localhost:8080/"
        },
        "id": "MrDxLT54rthj",
        "outputId": "0800fda3-7bf5-4812-e2af-bc4cf196db6e"
      },
      "execution_count": null,
      "outputs": [
        {
          "output_type": "stream",
          "name": "stdout",
          "text": [
            "I am going home.\n",
            "Today is a holiday.\n",
            "\n",
            "\n",
            "Today is a holiday.\n",
            "I am going home.\n"
          ]
        }
      ]
    },
    {
      "cell_type": "code",
      "source": [
        "#Matching Parenthesis\n",
        "def is_matched(expr):\n",
        "  ''' Return True if all delimiters are properly matched; False otherwise'''\n",
        "\n",
        "  lefty = '({['               # opening delimiters\n",
        "  righty = ')}]'              # respective closing delimiters\n",
        "  S = ArrayStack()\n",
        "  for c in expr:\n",
        "    if c in lefty:            # push left delimiter on stack\n",
        "      S.push(c)\n",
        "    elif c in righty:\n",
        "      if S.is_empty():\n",
        "        return False          # Nothing to match\n",
        "      if righty.index(c) != lefty.index(S.pop()):\n",
        "        print('Mismatch Parenthesis:', c)\n",
        "        return False          # mismatch\n",
        "  return S.is_empty()         # were all symbols matched\n",
        "\n",
        "\n",
        "##########\n",
        "\n",
        "\n",
        "expr = '[(5+x)-(y+z)}'\n",
        "print(is_matched(expr))\n",
        "expr2 = '[(5+x)-(y+z)]'\n",
        "print(is_matched(expr2))\n"
      ],
      "metadata": {
        "colab": {
          "base_uri": "https://localhost:8080/"
        },
        "id": "9OYQWwpPswIl",
        "outputId": "58d38c4b-24ab-4eda-d314-9af521a3b36a"
      },
      "execution_count": null,
      "outputs": [
        {
          "output_type": "stream",
          "name": "stdout",
          "text": [
            "Mismatch Parenthesis: }\n",
            "False\n",
            "True\n"
          ]
        }
      ]
    },
    {
      "cell_type": "code",
      "source": [
        "#Matching Tags in a Markup Language (HTML)\n",
        "def is_matched_html(raw):\n",
        "  ''' return True if all HTML tags are properly match; False otherwise'''\n",
        "  S = ArrayStack()\n",
        "  j = raw.find('<')                 # find first '<' character (if any)\n",
        "  while j != -1:\n",
        "    k = raw.find('>', j+1)          # find next '>' character\n",
        "    if k == -1:\n",
        "      print('Invalid Tag')\n",
        "      return False                  # invalid tag\n",
        "    tag = raw[j+1:k]                # strip away < >\n",
        "    if not tag.startswith('/'):     # this is opening tag\n",
        "      S.push(tag)\n",
        "    else:                           # this is closing tag\n",
        "      if S.is_empty():\n",
        "        print('Stack is empty. Nothing to match with')\n",
        "        return False                # nothing to match with\n",
        "      if tag[1:] != S.pop():\n",
        "        print('Tag Mismatch:', tag)\n",
        "        return False                # mismatched delimiter\n",
        "    j = raw.find('<', k+1)          # find next '<' character (if any)\n",
        "  return S.is_empty()\n",
        "\n",
        "################\n",
        "\n",
        "is_matched_html('''<body>\n",
        "<center>\n",
        "<h1> The Little Boat </h1>\n",
        "</center>\n",
        "<p> The storm tossed the little boat like a cheap sneaker in an\n",
        "old washing machine. The three drunken fishermen were used to\n",
        "such treatment, of course, but not the tree salesman, who even as\n",
        "a stowaway now felt that he had overpaid for the voyage. </p>\n",
        "<ol>\n",
        "<li> Will the salesman die? </li>\n",
        "<li> What color is the boat? </li>\n",
        "<li> And what about Naomi? </li>\n",
        "</ol>\n",
        "</body>''')"
      ],
      "metadata": {
        "colab": {
          "base_uri": "https://localhost:8080/"
        },
        "id": "pbt82swrs_rn",
        "outputId": "2b81728b-4012-4d27-f6db-7fad84c46d21"
      },
      "execution_count": null,
      "outputs": [
        {
          "output_type": "execute_result",
          "data": {
            "text/plain": [
              "True"
            ]
          },
          "metadata": {},
          "execution_count": 8
        }
      ]
    },
    {
      "cell_type": "markdown",
      "source": [
        "QUEUE"
      ],
      "metadata": {
        "id": "r8BwkbgorrVK"
      }
    },
    {
      "cell_type": "code",
      "source": [
        "#A python queue implementation\n",
        "class ArrayQueue:\n",
        "  ''' \n",
        "  FIFO Queue implementation using a Python List as underlying storage\n",
        "  '''\n",
        "  DEFAULT_CAPACITY = 5       # moderate capacity for all new queues\n",
        "\n",
        "  def __init__(self):\n",
        "    ''' Create an empty queue '''\n",
        "    self._data = [None] * ArrayQueue.DEFAULT_CAPACITY\n",
        "    self._size = 0\n",
        "    self._front = 0\n",
        "\n",
        "\n",
        "  def __len__(self):\n",
        "    ''' return the number of elements in the queue'''\n",
        "    return self._size\n",
        "\n",
        "  def is_empty(self):\n",
        "    ''' Return True if the queue is empty'''\n",
        "    return self._size == 0\n",
        "\n",
        "  def first(self):\n",
        "    ''' \n",
        "    Return (but do not remove) the element at the front of the queue\n",
        "    Raise Empty Exception if the queue is empty.\n",
        "    '''\n",
        "    if self.is_empty():\n",
        "      raise Empty('Queue is Empty')\n",
        "    return self._data[self._front]\n",
        "\n",
        "  \n",
        "  def dequeue(self):\n",
        "    '''\n",
        "        remove and return the first element of the queue.\n",
        "    raise Empty exception if the queue is empty.\n",
        "    '''\n",
        "    if self.is_empty():\n",
        "      raise Empty('Queue is Empty')\n",
        "    answer = self._data[self._front]\n",
        "    self._data[self._front] = None  # help garbage collection\n",
        "    self._front = (self._front + 1) % len(self._data)  # circular indexing\n",
        "    self._size -= 1  # reduce the queue size\n",
        "\n",
        "    if 0 < self._size < len(self._data) // 4:  # shrink the array size by half \n",
        "      self._resize(len(self._data)//2)         # when queue size 1/4 of the\n",
        "    return answer                              # total array capacity\n",
        "\n",
        "\n",
        "  def enqueue(self, e):\n",
        "    '''Add an element to the back of queue'''\n",
        "    if self._size == len(self._data):\n",
        "      self._resize(2*len(self._data))     # double the array size\n",
        "    avail = (self._front + self._size) % len(self._data)\n",
        "    self._data[avail] = e\n",
        "    self._size += 1\n",
        "\n",
        "\n",
        "  def _resize(self, cap):\n",
        "    ''' resize to a new list of capacity >= len(self)'''\n",
        "    old = self._data\n",
        "    self._data = [None] * cap \n",
        "    walk = self._front\n",
        "    for k in range(self._size):     # only consider existing elements\n",
        "      self._data[k] = old[walk]     # intentionally shift indices\n",
        "      walk = (1+walk) % len(old)    # use old size as modulus\n",
        "    self._front = 0                 # front has been realigned. \n",
        "\n",
        "  def __str__(self):\n",
        "    ''' string representation of the queue'''\n",
        "    return '<'+''.join(str(self._data)) +'<'\n",
        "\n",
        "#################\n",
        "\n",
        "Q = ArrayQueue()\n",
        "Q.enqueue(5)\n",
        "Q.enqueue(7)\n",
        "Q.enqueue(9)\n",
        "Q.enqueue(2)\n",
        "Q.enqueue(6)\n",
        "Q.enqueue(4)\n",
        "Q.enqueue(1)\n",
        "Q.enqueue(0)\n",
        "\n",
        "print('Q: ', Q)\n",
        "print('Queue Length:', len(Q))\n",
        "print('Remove last item: ', Q.dequeue())\n",
        "print('Remove last item: ', Q.dequeue())\n",
        "print('Q: ', Q)\n",
        "print('Queue Length:', len(Q))\n",
        "print('Remove last item: ', Q.dequeue())\n",
        "print('Remove last item: ', Q.dequeue())\n",
        "print('Remove last item: ', Q.dequeue())\n",
        "print('Remove last item: ', Q.dequeue())\n",
        "print('Q: ', Q)\n",
        "print('Queue Length:', len(Q))\n",
        "print('Remove last item: ', Q.dequeue())\n",
        "print('Q: ', Q)\n",
        "print('Queue Length:', len(Q))\n",
        "#################\n",
        " "
      ],
      "metadata": {
        "colab": {
          "base_uri": "https://localhost:8080/"
        },
        "id": "MXT0Z8_oruHw",
        "outputId": "f6dca15d-b048-4a12-af32-8d43e825365e"
      },
      "execution_count": null,
      "outputs": [
        {
          "output_type": "stream",
          "name": "stdout",
          "text": [
            "Q:  <[5, 7, 9, 2, 6, 4, 1, 0, None, None]<\n",
            "Queue Length: 8\n",
            "Remove last item:  5\n",
            "Remove last item:  7\n",
            "Q:  <[None, None, 9, 2, 6, 4, 1, 0, None, None]<\n",
            "Queue Length: 6\n",
            "Remove last item:  9\n",
            "Remove last item:  2\n",
            "Remove last item:  6\n",
            "Remove last item:  4\n",
            "Q:  <[None, None, None, None, None, None, 1, 0, None, None]<\n",
            "Queue Length: 2\n",
            "Remove last item:  1\n",
            "Q:  <[0, None, None, None, None]<\n",
            "Queue Length: 1\n"
          ]
        }
      ]
    }
  ]
}