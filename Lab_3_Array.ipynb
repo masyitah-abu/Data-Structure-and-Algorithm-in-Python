{
  "nbformat": 4,
  "nbformat_minor": 0,
  "metadata": {
    "colab": {
      "provenance": [],
      "collapsed_sections": [],
      "authorship_tag": "ABX9TyN+D4O+CAakq+CfBo50lcdu",
      "include_colab_link": true
    },
    "kernelspec": {
      "name": "python3",
      "display_name": "Python 3"
    },
    "language_info": {
      "name": "python"
    }
  },
  "cells": [
    {
      "cell_type": "markdown",
      "metadata": {
        "id": "view-in-github",
        "colab_type": "text"
      },
      "source": [
        "<a href=\"https://colab.research.google.com/github/masyitah-abu/Data-Structure-and-Algorithm-in-Python/blob/main/Lab_3_Array.ipynb\" target=\"_parent\"><img src=\"https://colab.research.google.com/assets/colab-badge.svg\" alt=\"Open In Colab\"/></a>"
      ]
    },
    {
      "cell_type": "markdown",
      "source": [
        "Array Operation\n",
        "\n",
        "\n",
        "1. Finding the length of an array \n",
        "2. Adding/Changing element of an array\n",
        "3. Removing/deleting element of an array\n",
        "4. Array convatenation\n",
        "5. Slicing\n",
        "6. Looping through an array\n",
        "7. Sorting\n",
        "\n"
      ],
      "metadata": {
        "id": "dEi2DXg3qu5x"
      }
    },
    {
      "cell_type": "code",
      "execution_count": null,
      "metadata": {
        "id": "xkpjRxrjkBO4",
        "colab": {
          "base_uri": "https://localhost:8080/"
        },
        "outputId": "b67142db-cb8f-4bcd-dcc2-e51ab3e792a9"
      },
      "outputs": [
        {
          "output_type": "stream",
          "name": "stdout",
          "text": [
            "2\n",
            "5\n",
            "62\n",
            "5\n",
            "42\n",
            "52\n",
            "48\n",
            "5\n"
          ]
        }
      ],
      "source": [
        "#remove\n",
        "\"\"\"\n",
        "import array as arr\n",
        "\n",
        "numbers = arr.array('i',[10,11,12,12,13,14])\n",
        "\n",
        "numbers.remove(12)\n",
        "print(numbers)\n",
        "\n",
        "numbers.pop(2)\n",
        "print(numbers)\n",
        "\"\"\"\n",
        "\n",
        "#Slicing\n",
        "\"\"\"\n",
        "import array as arr\n",
        "\n",
        "number_array=[2,5,62,5,42,52,48,5]\n",
        "\n",
        "print(number_array[2:5])\n",
        "print(number_array[:-5])\n",
        "print(number_array[5:])\n",
        "print(number_array[:])\n",
        "\"\"\"\n",
        "\n",
        "#looping\n",
        "from array import *\n",
        "\n",
        "number_list=[2,5,62,5,42,52,48,5]\n",
        "a = array('i', number_list)\n",
        "\n",
        "for x in a:\n",
        "  print(x)\n"
      ]
    },
    {
      "cell_type": "markdown",
      "source": [
        "Type of Array\n",
        "\n",
        "1. 1 Dimension Array\n",
        "2. 2 Dimension Array\n",
        "3. Multi Dimension Array"
      ],
      "metadata": {
        "id": "kgSn7a_8ryGO"
      }
    },
    {
      "cell_type": "code",
      "source": [
        "#"
      ],
      "metadata": {
        "id": "B0LuALkksAyy"
      },
      "execution_count": null,
      "outputs": []
    },
    {
      "cell_type": "markdown",
      "source": [
        "Array Application\n",
        "\n",
        "Storing high score game"
      ],
      "metadata": {
        "id": "WSu8S0AS2d7n"
      }
    },
    {
      "cell_type": "code",
      "source": [
        "class GameEntry:\n",
        " def __init__(self, name, score):\n",
        "    self._name = name #utk masukkan nama player\n",
        "    self._score = score #utk masukkan score player\n",
        " def get_name(self):\n",
        "  return self._name #dapatkan nama yg dimasukkan\n",
        " def get_score(self):\n",
        "  return self._score #dapatkan nilai score yg dimasukkan\n",
        " def __str__(self):\n",
        "  return ('({0}, {1})'.format(self._name, self._score)) #untuk display nama & score yg 0,1 tu adalah indexing e.g., (Bob, 98)\n",
        "\n",
        "class Scoreboard():\n",
        " def __init__(self, capacity=10):\n",
        "\n",
        "  self._board = [None]*capacity # reserve space for future scores\n",
        "  self._n=0 # number of actual entries\n",
        "\n",
        " def __getitem__(self, k):\n",
        "\n",
        "  return self._board[k] #get the item that store in the space\n",
        "\n",
        " def add(self, entry):\n",
        "\n",
        "  score = entry.get_score() #get the score in the space\n",
        "\n",
        "  #compare score2 tu dgn condition kat bwh ni\n",
        "\n",
        "  if self._n < len(self._board) or score > self._board[-1].get_score(): # what is it \" self._board[-1].get_score()\"\n",
        "    if self._n < len(self._board): # no score drops from list\n",
        "      self._n += 1 # so overall number increases\n",
        "\n",
        "    j = self._n - 1\n",
        "    while j > 0 and self._board[j-1].get_score( ) < score:\n",
        "     self._board[j] = self._board[j-1] # shift entry from j-1 to j\n",
        "     j -= 1 # and decrement j\n",
        "    self._board[j] = entry\n",
        " def __str__(self):\n",
        "\n",
        "  return '\\n' .join(str(self._board[j]) for j in range(self._n)) #display\n",
        "\n",
        "#main\n",
        "S = Scoreboard()\n",
        "S.add(GameEntry('Mike',1105))    \n",
        "S.add(GameEntry('Rob',750))    \n",
        "S.add(GameEntry('Paul',720))    \n",
        "S.add(GameEntry('Anna',660))    \n",
        "S.add(GameEntry('Rose',590))    \n",
        "S.add(GameEntry('Jack',510))\n",
        "\n",
        "print('Entry scoreboard:\\n',S)\n",
        "\n",
        "S.add(GameEntry('Jill',740))\n",
        "\n",
        "print('Entry scoreboard:\\n',S)\n",
        "\n",
        "\n",
        "\n"
      ],
      "metadata": {
        "id": "gKMMq1ot2pDY",
        "colab": {
          "base_uri": "https://localhost:8080/"
        },
        "outputId": "95f49a18-b73f-41fa-a0c0-a4a4bd78fcd4"
      },
      "execution_count": null,
      "outputs": [
        {
          "output_type": "stream",
          "name": "stdout",
          "text": [
            "Entry scoreboard:\n",
            " (Mike, 1105)\n",
            "(Rob, 750)\n",
            "(Paul, 720)\n",
            "(Anna, 660)\n",
            "(Rose, 590)\n",
            "(Jack, 510)\n",
            "Entry scoreboard:\n",
            " (Mike, 1105)\n",
            "(Rob, 750)\n",
            "(Jill, 740)\n",
            "(Paul, 720)\n",
            "(Anna, 660)\n",
            "(Rose, 590)\n",
            "(Jack, 510)\n"
          ]
        }
      ]
    }
  ]
}