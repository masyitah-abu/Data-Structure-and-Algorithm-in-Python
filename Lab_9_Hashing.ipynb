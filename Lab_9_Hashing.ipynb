{
  "nbformat": 4,
  "nbformat_minor": 0,
  "metadata": {
    "colab": {
      "provenance": [],
      "authorship_tag": "ABX9TyMM259A9a6bmUmUPTdFDKtB",
      "include_colab_link": true
    },
    "kernelspec": {
      "name": "python3",
      "display_name": "Python 3"
    },
    "language_info": {
      "name": "python"
    }
  },
  "cells": [
    {
      "cell_type": "markdown",
      "metadata": {
        "id": "view-in-github",
        "colab_type": "text"
      },
      "source": [
        "<a href=\"https://colab.research.google.com/github/masyitah-abu/Data-Structure-and-Algorithm-in-Python/blob/main/Lab_9_Hashing.ipynb\" target=\"_parent\"><img src=\"https://colab.research.google.com/assets/colab-badge.svg\" alt=\"Open In Colab\"/></a>"
      ]
    },
    {
      "cell_type": "markdown",
      "source": [
        "Hashing\n",
        "\n",
        "Collision Resolution Techniques\n",
        "\n",
        "1. Separate Chaining \n",
        "2. Linear Chaining\n",
        "3. Quadration Probing\n",
        "4. Double Hashing"
      ],
      "metadata": {
        "id": "nBV_2BRrgI0J"
      }
    },
    {
      "cell_type": "code",
      "execution_count": null,
      "metadata": {
        "id": "86vDsEVy7Pun",
        "colab": {
          "base_uri": "https://localhost:8080/"
        },
        "outputId": "33fbf4f2-d967-494d-c6fe-1ce27527e4a2"
      },
      "outputs": [
        {
          "output_type": "stream",
          "name": "stdout",
          "text": [
            "The hash value for 3 is 3\n",
            "The hash value for 2 is 2\n",
            "The hash value for 9 is 2\n",
            "The hash value for 11 is 4\n",
            "The hash value for 7 is 0\n"
          ]
        }
      ],
      "source": [
        "#Hashing for Array\n",
        "def hash_key( key, m): #Defines a function hash_key that accepts the parameters key and m.\n",
        "    return key % m #Uses a simple modulus operation to determine the hash value\n",
        "\n",
        "m = 7 #Defines a variable m that is initialized to the value 7. This is the size of our hash table\n",
        "\n",
        "print(f'The hash value for 3 is {hash_key(3,m)}') #Calculates and prints the hash value of 3\n",
        "print(f'The hash value for 2 is {hash_key(2,m)}') #Calculates and prints the hash value of 2\n",
        "print(f'The hash value for 9 is {hash_key(9,m)}') #Calculates and prints the hash value of 9\n",
        "print(f'The hash value for 11 is {hash_key(11,m)}') #Calculates and prints the hash value of 11\n",
        "print(f'The hash value for 7 is {hash_key(7,m)}') #Calculates and prints the hash value of 7"
      ]
    },
    {
      "cell_type": "code",
      "source": [
        "#Hashing for list\n",
        "employee = {\n",
        "    'name': 'John Doe', #Defines a dictionary variable employee. The key name is used to store the value John Doe, age stores 36, and position stores the value Business Manager.\n",
        "    'age': 36,\n",
        "    'position': 'Business Manager.'\n",
        "}\n",
        "\n",
        "print (f\"The name of the employee is {employee['name']}\") #Retrieves the value of the key name and prints it in the terminal\n",
        "employee['position'] = 'Software Engineer' #Updates the value of the key position to the value Software Engineer\n",
        "print (f\"The position of {employee['name']} is {employee['position']}\") #Prints the values of the keys name and position\n",
        "employee.clear() #Deletes all the values that are stored in our dictionary variable employee\n",
        "\n",
        "print (employee) #Prints the value of employee"
      ],
      "metadata": {
        "colab": {
          "base_uri": "https://localhost:8080/"
        },
        "id": "lydG2x4WlUw2",
        "outputId": "f0a55d27-ff7f-46bb-89f2-6ca74bebfd5f"
      },
      "execution_count": null,
      "outputs": [
        {
          "output_type": "stream",
          "name": "stdout",
          "text": [
            "The name of the employee is John Doe\n",
            "The position of John Doe is Software Engineer\n",
            "{}\n"
          ]
        }
      ]
    },
    {
      "cell_type": "markdown",
      "source": [
        "**Separate Chaining**"
      ],
      "metadata": {
        "id": "e7w1HjRsgu75"
      }
    },
    {
      "cell_type": "markdown",
      "source": [
        "Show the collision process"
      ],
      "metadata": {
        "id": "_tUr4Leak7vv"
      }
    },
    {
      "cell_type": "code",
      "source": [],
      "metadata": {
        "id": "JkWPL2kFk3s_"
      },
      "execution_count": null,
      "outputs": []
    },
    {
      "cell_type": "markdown",
      "source": [
        "**Linear Chaining**"
      ],
      "metadata": {
        "id": "KCnIE3rsg2GA"
      }
    },
    {
      "cell_type": "markdown",
      "source": [
        "Show the collision process"
      ],
      "metadata": {
        "id": "gRZRBcLxk8sH"
      }
    },
    {
      "cell_type": "code",
      "source": [],
      "metadata": {
        "id": "SrXq-koOg6c4"
      },
      "execution_count": null,
      "outputs": []
    },
    {
      "cell_type": "markdown",
      "source": [
        "**Quadration Probing**"
      ],
      "metadata": {
        "id": "SYCEOBJphEGA"
      }
    },
    {
      "cell_type": "markdown",
      "source": [
        "Show the collision process"
      ],
      "metadata": {
        "id": "0eJtG-iZk9Vv"
      }
    },
    {
      "cell_type": "code",
      "source": [],
      "metadata": {
        "id": "vlIqUWy1hElA"
      },
      "execution_count": null,
      "outputs": []
    },
    {
      "cell_type": "markdown",
      "source": [
        "**Double Hashing**"
      ],
      "metadata": {
        "id": "fJLacdT-hKmQ"
      }
    },
    {
      "cell_type": "markdown",
      "source": [
        "Show the collision process"
      ],
      "metadata": {
        "id": "Nw6v3B9Ak94v"
      }
    },
    {
      "cell_type": "code",
      "source": [],
      "metadata": {
        "id": "cHvUzD2zhLE3"
      },
      "execution_count": null,
      "outputs": []
    }
  ]
}